{
 "cells": [
  {
   "cell_type": "code",
   "execution_count": 1,
   "metadata": {},
   "outputs": [],
   "source": [
    "def generateInputFile():\n",
    "    try:\n",
    "        lines = ['Springsteen, Bruce, 2587.\\n', 'Hassan, Amir, 6958.\\n', 'Homes, Rebecca, 5263.\\n', 'Smoth, John, 5253\\n',\n",
    "                'McDonald, Mirnam, 8965!\\n', 'Pichai, Sundar, 9632.\\n', 'Jobs, Steve, 1002\\n', 'Goldsmith, Micheal, 5478.\\n', \n",
    "                 'Yassir, Anwar, 8885\\n', 'Nicholas, Jack, 4696\\n', 'Pang, Chee, 9898\\n', 'Lee, Andrew, 7412\\n', \n",
    "                'Jimenez, Dragos, 7547\\n']\n",
    "        outfile = open(\"Directory.txt\", \"w\")\n",
    "        for line in lines:\n",
    "            outfile.write(line)\n",
    "    except Exception as ex:\n",
    "        print(ex)\n",
    "    finally:\n",
    "        outfile.close()\n",
    "generateInputFile()"
   ]
  },
  {
   "cell_type": "code",
   "execution_count": 2,
   "metadata": {},
   "outputs": [
    {
     "name": "stdout",
     "output_type": "stream",
     "text": [
      "Phone        First name\n",
      "-------------------------\n",
      "2587          Bruce\n",
      "6958          Amir\n",
      "5263          Rebecca\n",
      "5253          John\n",
      "8965          Mirnam\n",
      "9632          Sundar\n",
      "1002          Steve\n",
      "5478          Micheal\n",
      "8885          Anwar\n",
      "4696          Jack\n",
      "9898          Chee\n",
      "7412          Andrew\n",
      "7547          Dragos\n",
      "\n",
      "\n",
      " ########## End of directory ########## \n",
      "\n"
     ]
    }
   ],
   "source": [
    "def readInputFile():\n",
    "    try:\n",
    "        infile = open(\"Directory.txt\", \"r\")             # opening the input file in read mode\n",
    "        lines = infile.readlines()                      # reading all lines from the input file\n",
    "        lis1 = []                                      # creating an empty list = []\n",
    "        for line in lines:                             # for each line in lines\n",
    "            l = line.split(\",\")                        # we split the lines into a list with delimeter ','\n",
    "            lis = []                                   # creating another empty list = []\n",
    "            for i in l:                                # now for each content in l which we had split\n",
    "                i = i.strip()                          # we will remove all the whitespace from the strings\n",
    "                if i != \"\":                            # if the string is empty we dont conclude it\n",
    "                    lis.append(i)                      # strings which satisfy the above statements are appended to list\n",
    "            lis1.append(lis)                          # at last the whole list with strings is appended to the another\n",
    "                                                        # -> empty list\n",
    "        lis3 = []\n",
    "        for i in lis1:                                #creating another empty list = [] and looping througt lis1 = []\n",
    "            lis2 = []                                  # this empty list stores the names and number\n",
    "            for j in range(len(i)):                 # now for each  value in i which is a sub list we go through the strings\n",
    "                if j != 0:                          # if the index of the string in list is 0, we ignore as it contains last\n",
    "                    str1 = \"\"                         # name, creating an empty string to append\n",
    "                    for k in i[j]:                    # looping through the string to remove special characters\n",
    "                        if k.isalnum():             # if the character is alpha numeric \n",
    "                            str1 += k                   # we concatenate it to the empty string\n",
    "                    lis2.append(str1)                 # and then append the string to list which is first name and number\n",
    "            lis3.append(lis2)                       # them append that first list to another new list\n",
    "        \n",
    "        outfile = open(\"DirectoryNew.txt\", \"w\")      # opening the Directorynew.txt in write mode\n",
    "        print(\"Phone        First name\")         \n",
    "        print(\"-------------------------\")              \n",
    "        outfile.write(\"Phone        First name\")        # wrinting into file the statement\n",
    "        outfile.write(\"\\n-------------------------\\n\")     # writing into file another statement\n",
    "        for line in lis3:                                  # now looping into list which contains name and number\n",
    "            print(line[1] + \"          \" + line[0])          # printing the name and number\n",
    "            outfile.write(line[1] + \"          \" + line[0] + \"\\n\")       #writing the name and number each time to file\n",
    "        outfile.write(\"\\n\\n ########## End of directory ########## \\n\")   #writing into file the statement\n",
    "        print(\"\\n\\n ########## End of directory ########## \\n\")          # printing the statement\n",
    "        \n",
    "    except Exception as ex:                     # this is an exception if caused is raised\n",
    "        print(ex)                               # and prints that exception\n",
    "    finally:                               # this is finally block\n",
    "        infile.close()                   # here we close all the input and output file\n",
    "        outfile.close()\n",
    "readInputFile()                         # calling the function readInputFile()"
   ]
  },
  {
   "cell_type": "code",
   "execution_count": null,
   "metadata": {},
   "outputs": [],
   "source": []
  }
 ],
 "metadata": {
  "kernelspec": {
   "display_name": "Python 3",
   "language": "python",
   "name": "python3"
  },
  "language_info": {
   "codemirror_mode": {
    "name": "ipython",
    "version": 3
   },
   "file_extension": ".py",
   "mimetype": "text/x-python",
   "name": "python",
   "nbconvert_exporter": "python",
   "pygments_lexer": "ipython3",
   "version": "3.7.6"
  }
 },
 "nbformat": 4,
 "nbformat_minor": 4
}
