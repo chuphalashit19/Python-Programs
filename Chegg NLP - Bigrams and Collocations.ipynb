{
 "cells": [
  {
   "cell_type": "code",
   "execution_count": 1,
   "metadata": {},
   "outputs": [
    {
     "name": "stdout",
     "output_type": "stream",
     "text": [
      "[('car', 3), ('fans', 3), ('disciplines', 1)]\n",
      "['sports car', 'sports fans']\n"
     ]
    }
   ],
   "source": [
    "import nltk\n",
    "from nltk.tokenize import word_tokenize\n",
    "from nltk.corpus import stopwords\n",
    "\n",
    "def performBigramsAndCollocstions(textcontent, word): \n",
    "    tokenizedword = nltk.regexp_tokenize(textcontent, pattern = r'\\w*', gaps = False)\n",
    "    \n",
    "    tokenizedwords = [x.lower() for x in tokenizedword if x != '']\n",
    "    \n",
    "    tokenizedwordsbigrams = list(nltk.bigrams(tokenizedwords))\n",
    "    \n",
    "    stop_words = set(stopwords.words('english'))\n",
    "    \n",
    "    tokenizednonstopwordsbigrams = [w for w in tokenizedwordsbigrams if not w in stop_words] \n",
    "    \n",
    "    cfd_bigrams = nltk.ConditionalFreqDist(tokenizednonstopwordsbigrams)\n",
    "    \n",
    "    mostfrequentwordafter = cfd_bigrams[word].most_common(3)\n",
    "    \n",
    "    collocationwords = nltk.Text(tokenizedwords).collocation_list()\n",
    "    \n",
    "    print(mostfrequentwordafter)\n",
    "    print(collocationwords)\n",
    "    \n",
    "\n",
    "textcontent = \"Thirty-five sports disciplines and four cultural activities will be offered during seven days of competitions. He skated with charisma, changing from one gear to another, from one direction to another, faster than a sports car. Armchair sports fans settling down to watch the Olympic Games could be for the high jump if they do not pay their TV licence fee. Such invitationals will attract more viewership for sports fans by sparking interest among sports fans. She barely noticed a flashy sports car almost run them over, until Eddie lunged forward and grabbed her body away. And he flatters the mother and she kind of gets prissy and he talks her into going for a ride in the sports car.\"\n",
    "word = \"sports\"\n",
    "\n",
    "performBigramsAndCollocstions(textcontent, word)"
   ]
  }
 ],
 "metadata": {
  "kernelspec": {
   "display_name": "Python 3",
   "language": "python",
   "name": "python3"
  },
  "language_info": {
   "codemirror_mode": {
    "name": "ipython",
    "version": 3
   },
   "file_extension": ".py",
   "mimetype": "text/x-python",
   "name": "python",
   "nbconvert_exporter": "python",
   "pygments_lexer": "ipython3",
   "version": "3.7.6"
  }
 },
 "nbformat": 4,
 "nbformat_minor": 4
}
