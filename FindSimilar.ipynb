{
 "cells": [
  {
   "cell_type": "code",
   "execution_count": 30,
   "metadata": {},
   "outputs": [
    {
     "data": {
      "text/plain": [
       "3"
      ]
     },
     "execution_count": 30,
     "metadata": {},
     "output_type": "execute_result"
    }
   ],
   "source": [
    "def findSimilar(a, b):\n",
    "    if sorted(a) == sorted(b):\n",
    "        if len(set(a)) == 1:\n",
    "            return 1\n",
    "        else:\n",
    "            return len(a)\n",
    "    else:\n",
    "        if len(set(b)) == 1:\n",
    "            return 1\n",
    "        else:\n",
    "            return len(b)\n",
    "    \n",
    "a = \"3454\"\n",
    "b = \"543\"\n",
    "findSimilar(a, b)"
   ]
  }
 ],
 "metadata": {
  "kernelspec": {
   "display_name": "Python 3",
   "language": "python",
   "name": "python3"
  },
  "language_info": {
   "codemirror_mode": {
    "name": "ipython",
    "version": 3
   },
   "file_extension": ".py",
   "mimetype": "text/x-python",
   "name": "python",
   "nbconvert_exporter": "python",
   "pygments_lexer": "ipython3",
   "version": "3.7.6"
  }
 },
 "nbformat": 4,
 "nbformat_minor": 4
}
