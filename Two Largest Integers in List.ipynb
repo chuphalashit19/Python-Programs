{
 "cells": [
  {
   "cell_type": "code",
   "execution_count": null,
   "metadata": {},
   "outputs": [],
   "source": [
    "values = list(map(int, input().split()))\n",
    "firstLargest = -1\n",
    "secondLargest = -1\n",
    "\n",
    "for i in values:\n",
    "    if i > firstLargest:\n",
    "        firstLargest = i\n",
    "        \n",
    "for i in values:\n",
    "    if i > secondLargest:\n",
    "        if i != firstLargest:\n",
    "            secondLargest = i\n",
    "\n",
    "print(\"First Largest:\", firstLargest)\n",
    "print(\"Second Largest:\", secondLargest)"
   ]
  }
 ],
 "metadata": {
  "kernelspec": {
   "display_name": "Python 3",
   "language": "python",
   "name": "python3"
  },
  "language_info": {
   "codemirror_mode": {
    "name": "ipython",
    "version": 3
   },
   "file_extension": ".py",
   "mimetype": "text/x-python",
   "name": "python",
   "nbconvert_exporter": "python",
   "pygments_lexer": "ipython3",
   "version": "3.7.6"
  }
 },
 "nbformat": 4,
 "nbformat_minor": 4
}
