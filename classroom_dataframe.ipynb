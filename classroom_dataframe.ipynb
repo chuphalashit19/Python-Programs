{
 "cells": [
  {
   "cell_type": "code",
   "execution_count": 1,
   "metadata": {},
   "outputs": [],
   "source": [
    "import pandas as pd\n",
    "\n",
    "def csv_to_dataframe(fpath): # define your parameters\n",
    "    \n",
    "    df = pd.read_csv(fpath)\n",
    "    \n",
    "    return df"
   ]
  },
  {
   "cell_type": "code",
   "execution_count": 30,
   "metadata": {},
   "outputs": [],
   "source": [
    "def access_df_column(df, column_name):\n",
    "    \n",
    "    print(df[column_name])"
   ]
  },
  {
   "cell_type": "code",
   "execution_count": 33,
   "metadata": {},
   "outputs": [
    {
     "name": "stdout",
     "output_type": "stream",
     "text": [
      "  class_name  room_no classcode\n",
      "0    english      212   INST126\n",
      "1      maths      223   INST201\n",
      "2    science      245   INST311\n",
      "3    geology      267   INST314\n",
      "4     civics      256   INST326\n",
      "5    history      289   INST335\n",
      "6    english      278   INST126\n",
      "7     civics      290   INST326\n"
     ]
    }
   ],
   "source": [
    "# test your function here\n",
    "fpath = \"Q1_data_input.csv\"\n",
    "df = csv_to_dataframe(fpath)\n",
    "print(df)"
   ]
  },
  {
   "cell_type": "code",
   "execution_count": 32,
   "metadata": {},
   "outputs": [
    {
     "name": "stdout",
     "output_type": "stream",
     "text": [
      "0    INST126\n",
      "1    INST201\n",
      "2    INST311\n",
      "3    INST314\n",
      "4    INST326\n",
      "5    INST335\n",
      "6    INST126\n",
      "7    INST326\n",
      "Name: classcode, dtype: object\n"
     ]
    }
   ],
   "source": [
    "access_df_column(df, 'classcode')"
   ]
  }
 ],
 "metadata": {
  "kernelspec": {
   "display_name": "Python 3",
   "language": "python",
   "name": "python3"
  },
  "language_info": {
   "codemirror_mode": {
    "name": "ipython",
    "version": 3
   },
   "file_extension": ".py",
   "mimetype": "text/x-python",
   "name": "python",
   "nbconvert_exporter": "python",
   "pygments_lexer": "ipython3",
   "version": "3.7.6"
  }
 },
 "nbformat": 4,
 "nbformat_minor": 4
}
