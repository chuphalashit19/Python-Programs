{
 "cells": [
  {
   "cell_type": "code",
   "execution_count": 43,
   "metadata": {},
   "outputs": [
    {
     "name": "stdout",
     "output_type": "stream",
     "text": [
      "Name  Total Sales Min Sale Max Sales Avg Sales\n",
      "Ahmad\t74.9\t10.4\t14.2\t12.48\n",
      "Mujahid\t82.6\t11.8\t18.2\t13.77\n",
      "Usman\t85.0\t10.2\t16.5\t14.17\n",
      "Aslam\t94.4\t12.5\t18.3\t15.73\n",
      "Abid\t85.8\t12.8\t16.3\t14.3\n",
      "Farhan\t81.1\t12.5\t14.7\t13.52\n",
      "Number of Salesman who has sales less than 12 million = 3\n"
     ]
    }
   ],
   "source": [
    "def analyseSales(salesList):\n",
    "    minSale = 99999999\n",
    "    maxSale = 0\n",
    "    totalSales = 0\n",
    "    avgSale = 0\n",
    "    for sale in salesList:\n",
    "        sale = float(sale)\n",
    "        totalSales += sale\n",
    "        if sale > maxSale:\n",
    "            maxSale = sale\n",
    "        if sale < minSale:\n",
    "            minSale = sale\n",
    "    \n",
    "    avgSale = totalSales/len(salesList)\n",
    "        \n",
    "    \n",
    "    return round(totalSales, 2), minSale, maxSale, round(avgSale, 2)\n",
    "\n",
    "\n",
    "if __name__ == \"__main__\":\n",
    "    \n",
    "    file = open(\"analyseSales.txt\", \"r\")\n",
    "    lines = file.readlines()\n",
    "    wFile = open(\"ouputSales.txt\", \"a\")\n",
    "    wFile.write(\"Name  Total Sales Min Sale Max Sales Avg Sales\")\n",
    "    wFile.write(\"\\n\")\n",
    "    print(\"Name  Total Sales Min Sale Max Sales Avg Sales\")\n",
    "    count = 0\n",
    "    for line in lines:\n",
    "        salesList = []\n",
    "        flag = False\n",
    "        name, s1, s2, s3, s4, s5, s6 = line.split(\" \")\n",
    "        salesList.append(s1)\n",
    "        salesList.append(s2)\n",
    "        salesList.append(s3)\n",
    "        salesList.append(s4)\n",
    "        salesList.append(s5)\n",
    "        salesList.append(s6)\n",
    "        c = 0\n",
    "        for i in salesList:\n",
    "            if float(i) < 12:\n",
    "                c += 1\n",
    "        \n",
    "        if c >= 1:\n",
    "            count += 1\n",
    "        totalSales, minSale, maxSale, avgSale = analyseSales(salesList)\n",
    "        print(str(name)+ \"\\t\" +str(totalSales)+ \"\\t\" +str(minSale)+ \"\\t\" +str(maxSale)+ \"\\t\" +str(avgSale))\n",
    "        wFile.write(str(name)+ \"\\t\" +str(totalSales)+ \" \\t\" +str(minSale)+ \" \\t\" +str(maxSale)+ \" \\t\" +str(avgSale))\n",
    "        wFile.write(\"\\n\")\n",
    "    print(\"Number of Salesman who has sales less than 12 million =\", count)\n",
    "    wFile.write(\"Number of Salesman who has sales less than 12 million = \" +str(count))\n",
    "\n",
    "file.close()\n",
    "wFile.close()"
   ]
  },
  {
   "cell_type": "code",
   "execution_count": null,
   "metadata": {},
   "outputs": [],
   "source": [
    "Ahmad 12.4 14.2 10.4 13.8 12.6 11.5\n",
    "Mujahid 14.2 13.7 11.8 12.3 12.4 18.2\n",
    "Usman 11.8 16.4 10.2 15.9 16.5 14.2\n",
    "Aslam 18.3 14.8 17.3 16.2 15.3 12.5\n",
    "Abid 12.8 16.3 14.2 13.8 13.6 15.1\n",
    "Farhan 13.5 13.2 13.5 14.7 12.5 13.7"
   ]
  }
 ],
 "metadata": {
  "kernelspec": {
   "display_name": "Python 3",
   "language": "python",
   "name": "python3"
  },
  "language_info": {
   "codemirror_mode": {
    "name": "ipython",
    "version": 3
   },
   "file_extension": ".py",
   "mimetype": "text/x-python",
   "name": "python",
   "nbconvert_exporter": "python",
   "pygments_lexer": "ipython3",
   "version": "3.7.6"
  }
 },
 "nbformat": 4,
 "nbformat_minor": 4
}
