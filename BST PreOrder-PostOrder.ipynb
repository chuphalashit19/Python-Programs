{
 "cells": [
  {
   "cell_type": "code",
   "execution_count": 10,
   "metadata": {},
   "outputs": [
    {
     "name": "stdout",
     "output_type": "stream",
     "text": [
      "15 10 23 25 20 35 42 39 30 "
     ]
    }
   ],
   "source": [
    "int_min = -2**31\n",
    "int_max = 2**31\n",
    "\n",
    "def PostOrderUtil(pre, n, min_value, max_value, Index):\n",
    "\n",
    "    if (Index[0] == n):\n",
    "        return\n",
    "\n",
    "    if (pre_order[Index[0]] < min_value or pre_order[Index[0]] > max_value):\n",
    "        return\n",
    "\n",
    "    value = pre_order[Index[0]]\n",
    "    Index[0] += 1\n",
    "\n",
    "    PostOrderUtil(pre_order, length, min_value, value, Index)\n",
    "\n",
    "    PostOrderUtil(pre_order, length, value, max_value, Index)\n",
    "\n",
    "    print(value, end=\" \")\n",
    "\n",
    "def PostOrderTraversal(pre_order, length):\n",
    "\n",
    "    Index = [0]\n",
    "\n",
    "    PostOrderUtil(pre_order, length, int_min, int_max, Index)\n",
    "\n",
    "\n",
    "# Driver Code\n",
    "if __name__ == '__main__':\n",
    "    \n",
    "    pre_order = [30, 20, 10, 15, 25, 23, 39, 35, 42]\n",
    "\n",
    "    length = len(pre_order)\n",
    "    \n",
    "    PostOrderTraversal(pre_order, length)"
   ]
  }
 ],
 "metadata": {
  "kernelspec": {
   "display_name": "Python 3",
   "language": "python",
   "name": "python3"
  },
  "language_info": {
   "codemirror_mode": {
    "name": "ipython",
    "version": 3
   },
   "file_extension": ".py",
   "mimetype": "text/x-python",
   "name": "python",
   "nbconvert_exporter": "python",
   "pygments_lexer": "ipython3",
   "version": "3.7.6"
  }
 },
 "nbformat": 4,
 "nbformat_minor": 4
}
