{
 "cells": [
  {
   "cell_type": "code",
   "execution_count": 15,
   "metadata": {},
   "outputs": [
    {
     "name": "stdout",
     "output_type": "stream",
     "text": [
      "OrderedDict([('STUDENT ID', 'w0341134'), ('STUDENT FIRST NAME', 'John'), ('STUDENT LAST NAME', 'Bran'), ('COURSE ID', '375'), ('MIDTERM', '95'), ('FINAL', '92')])\n",
      "OrderedDict([('STUDENT ID', 'w0096432'), ('STUDENT FIRST NAME', 'Sam'), ('STUDENT LAST NAME', 'Vance'), ('COURSE ID', '375'), ('MIDTERM', '90'), ('FINAL', '97')])\n",
      "OrderedDict([('STUDENT ID', 'w0273792'), ('STUDENT FIRST NAME', 'Abigail'), ('STUDENT LAST NAME', 'Simpson'), ('COURSE ID', '405'), ('MIDTERM', '75'), ('FINAL', '80')])\n"
     ]
    }
   ],
   "source": [
    "import csv\n",
    "\n",
    "filename = \"Student.csv\"\n",
    "with open(filename, 'r') as data:\n",
    "    for line in csv.DictReader(data): \n",
    "        print(line)"
   ]
  },
  {
   "cell_type": "code",
   "execution_count": 12,
   "metadata": {},
   "outputs": [
    {
     "name": "stdout",
     "output_type": "stream",
     "text": [
      "Headers: ('STUDENT ID', 'STUDENT FIRST NAME', 'STUDENT LAST NAME', 'COURSE ID', 'MIDTERM', 'FINAL')\n"
     ]
    }
   ],
   "source": [
    "import csv\n",
    "\n",
    "with open('Student.csv') as csv_file:\n",
    "    csv_reader = csv.reader(csv_file, delimiter=',')\n",
    "    line_count = 0\n",
    "    for row in csv_reader:\n",
    "        if line_count == 0:\n",
    "            header = tuple(row)\n",
    "            line_count += 1\n",
    "print(\"Headers:\", header)"
   ]
  },
  {
   "cell_type": "code",
   "execution_count": 16,
   "metadata": {},
   "outputs": [
    {
     "name": "stdout",
     "output_type": "stream",
     "text": [
      "[['w0341134', 'John', 'Bran', '375', '95', '92'], ['w0096432', 'Sam', 'Vance', '375', '90', '97'], ['w0273792', 'Abigail', 'Simpson', '405', '75', '80']]\n"
     ]
    }
   ],
   "source": [
    "import csv\n",
    "\n",
    "data = []\n",
    "with open('Student.csv') as csv_file:\n",
    "    csv_reader = csv.reader(csv_file, delimiter=',')\n",
    "    line_count = 0\n",
    "    for row in csv_reader:\n",
    "        if line_count == 0:\n",
    "            line_count += 1\n",
    "        else:\n",
    "            data.append(row)\n",
    "print(data)"
   ]
  },
  {
   "cell_type": "code",
   "execution_count": 21,
   "metadata": {},
   "outputs": [
    {
     "name": "stdout",
     "output_type": "stream",
     "text": [
      "Enter a student number to search: w0096432\n",
      "STUDENT ID : w0096432\n",
      "STUDENT FIRST NAME : Sam\n",
      "STUDENT LAST NAME : Vance\n",
      "COURSE ID : 375\n",
      "MIDTERM : 90\n",
      "FINAL : 97\n"
     ]
    }
   ],
   "source": [
    "stud_no = input(\"Enter a student number to search: \")\n",
    "for i in data:\n",
    "    for j in range(len(i)):\n",
    "        if i[0] == stud_no:\n",
    "            print(header[0], \":\", i[0])\n",
    "            print(header[1], \":\", i[1])\n",
    "            print(header[2], \":\", i[2])\n",
    "            print(header[3], \":\", i[3])\n",
    "            print(header[4], \":\", i[4])\n",
    "            print(header[5], \":\", i[5])\n",
    "            break"
   ]
  },
  {
   "cell_type": "code",
   "execution_count": 35,
   "metadata": {},
   "outputs": [
    {
     "name": "stdout",
     "output_type": "stream",
     "text": [
      "Enter a student number to search: w0096432\n",
      "Searched data written to csv file!!\n"
     ]
    }
   ],
   "source": [
    "stud_no = input(\"Enter a student number to search: \")\n",
    "\n",
    "for i in data:\n",
    "    for j in range(len(i)):\n",
    "        if i[0] == stud_no:\n",
    "            with open('SearchStudent.csv', mode='w') as stud_search:\n",
    "                stud_write = csv.writer(stud_search, delimiter=',', quotechar='\"', quoting=csv.QUOTE_MINIMAL)\n",
    "                lis = list(header)\n",
    "                stud_write.writerow(lis)\n",
    "                stud_write.writerow(i)\n",
    "                print(\"Searched data written to csv file!!\")\n",
    "                break"
   ]
  }
 ],
 "metadata": {
  "kernelspec": {
   "display_name": "Python 3",
   "language": "python",
   "name": "python3"
  },
  "language_info": {
   "codemirror_mode": {
    "name": "ipython",
    "version": 3
   },
   "file_extension": ".py",
   "mimetype": "text/x-python",
   "name": "python",
   "nbconvert_exporter": "python",
   "pygments_lexer": "ipython3",
   "version": "3.7.6"
  }
 },
 "nbformat": 4,
 "nbformat_minor": 4
}
