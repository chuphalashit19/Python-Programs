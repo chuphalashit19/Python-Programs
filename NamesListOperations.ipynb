{
 "cells": [
  {
   "cell_type": "code",
   "execution_count": 6,
   "metadata": {},
   "outputs": [
    {
     "name": "stdout",
     "output_type": "stream",
     "text": [
      "How many names do you have? 5\n",
      "Give me a name. Fred\n",
      "Give me a name. Ethel\n",
      "Give me a name. Ricky\n",
      "Give me a name. Lucy\n",
      "Give me a name. Bart\n",
      "Fred\n",
      "Ethel\n",
      "Ricky\n",
      "Lucy\n",
      "Bart\n",
      "Which name do you want me to change? Ricky\n",
      "What do you want me to change it to? Mabel\n",
      "Fred\n",
      "Ethel\n",
      "Mabel\n",
      "Lucy\n",
      "Bart\n"
     ]
    }
   ],
   "source": [
    "def createList(n):\n",
    "    lis = []\n",
    "    for i in range(n):\n",
    "        name = input(\"Give me a name. \")\n",
    "        lis.append(name)\n",
    "    return lis\n",
    "\n",
    "def printList(namesList):\n",
    "    for i in namesList:\n",
    "        print(i)\n",
    "\n",
    "def replaceName(namesList, name1, name2):\n",
    "    for i in range(len(namesList)):\n",
    "        if namesList[i] == name1:\n",
    "            namesList[i] = name2\n",
    "    return namesList\n",
    "    \n",
    "if __name__ == \"__main__\":\n",
    "    namesList = []\n",
    "    n = int(input(\"How many names do you have? \"))\n",
    "    namesList = createList(n)\n",
    "    printList(namesList)\n",
    "    name1 = input(\"Which name do you want me to change? \")\n",
    "    name2 = input(\"What do you want me to change it to? \")\n",
    "    namesList = replaceName(namesList, name1, name2)\n",
    "    printList(namesList)"
   ]
  },
  {
   "cell_type": "code",
   "execution_count": null,
   "metadata": {},
   "outputs": [],
   "source": []
  }
 ],
 "metadata": {
  "kernelspec": {
   "display_name": "Python 3",
   "language": "python",
   "name": "python3"
  },
  "language_info": {
   "codemirror_mode": {
    "name": "ipython",
    "version": 3
   },
   "file_extension": ".py",
   "mimetype": "text/x-python",
   "name": "python",
   "nbconvert_exporter": "python",
   "pygments_lexer": "ipython3",
   "version": "3.7.6"
  }
 },
 "nbformat": 4,
 "nbformat_minor": 4
}
