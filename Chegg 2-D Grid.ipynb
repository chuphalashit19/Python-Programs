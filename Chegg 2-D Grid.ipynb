{
 "cells": [
  {
   "cell_type": "code",
   "execution_count": null,
   "metadata": {},
   "outputs": [],
   "source": [
    "def reachTheEnd(grid, maxTime):\n",
    "    count = 0\n",
    "    for i in range(len(grid)):\n",
    "        for j in range(len(grid)):\n",
    "            if grid[i] == grid[i+1]:\n",
    "                count += 1\n",
    "                first_ind = i+1\n",
    "            else:\n",
    "                break\n",
    "            \n",
    "        \n",
    "rows = 3\n",
    "grid = ['..##','#.##','#...']\n",
    "maxTime = 5\n",
    "reachTheEnd(grid, maxTime)"
   ]
  }
 ],
 "metadata": {
  "kernelspec": {
   "display_name": "Python 3",
   "language": "python",
   "name": "python3"
  },
  "language_info": {
   "codemirror_mode": {
    "name": "ipython",
    "version": 3
   },
   "file_extension": ".py",
   "mimetype": "text/x-python",
   "name": "python",
   "nbconvert_exporter": "python",
   "pygments_lexer": "ipython3",
   "version": "3.7.6"
  }
 },
 "nbformat": 4,
 "nbformat_minor": 4
}
