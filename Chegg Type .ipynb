{
 "cells": [
  {
   "cell_type": "code",
   "execution_count": 6,
   "metadata": {},
   "outputs": [
    {
     "name": "stdout",
     "output_type": "stream",
     "text": [
      "<class 'int'>\n",
      "New value of obj: 2234\n",
      "<class 'str'>\n",
      "New value of obj: process info\n",
      "<class 'list'>\n",
      "New value of obj: [1, 2, 3, 4, 'process']\n",
      "<class 'bool'>\n",
      "New value of obj: False\n"
     ]
    }
   ],
   "source": [
    "def process(obj):\n",
    "    if type(obj) == str:\n",
    "        print(type(obj))\n",
    "        obj += \" info\"\n",
    "        print(\"New value of obj:\",obj)\n",
    "    elif type(obj) == int:\n",
    "        print(type(obj))\n",
    "        obj += 1000\n",
    "        print(\"New value of obj:\",obj)\n",
    "    elif type(obj) == bool:\n",
    "        print(type(obj))\n",
    "        obj = not obj\n",
    "        print(\"New value of obj:\",obj)\n",
    "    elif type(obj) == list:\n",
    "        print(type(obj))\n",
    "        obj.append(\"process\")\n",
    "        print(\"New value of obj:\",obj)\n",
    "\n",
    "        \n",
    "if __name__ == \"__main__\":\n",
    "    lis = [1234, 'process', [1,2,3,4], True]\n",
    "    for i in lis:\n",
    "        process(i)"
   ]
  }
 ],
 "metadata": {
  "kernelspec": {
   "display_name": "Python 3",
   "language": "python",
   "name": "python3"
  },
  "language_info": {
   "codemirror_mode": {
    "name": "ipython",
    "version": 3
   },
   "file_extension": ".py",
   "mimetype": "text/x-python",
   "name": "python",
   "nbconvert_exporter": "python",
   "pygments_lexer": "ipython3",
   "version": "3.7.6"
  }
 },
 "nbformat": 4,
 "nbformat_minor": 4
}
