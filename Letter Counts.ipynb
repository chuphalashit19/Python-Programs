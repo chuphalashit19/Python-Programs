{
 "cells": [
  {
   "cell_type": "code",
   "execution_count": 15,
   "metadata": {},
   "outputs": [
    {
     "name": "stdout",
     "output_type": "stream",
     "text": [
      "Enter the sentence: I love coding in python\n",
      "--------------------\n",
      "| Letters | Counts |\n",
      "--------------------\n",
      "|   c     |    1   |\n",
      "|   d     |    1   |\n",
      "|   e     |    1   |\n",
      "|   g     |    1   |\n",
      "|   h     |    1   |\n",
      "|   i     |    3   |\n",
      "|   l     |    1   |\n",
      "|   n     |    3   |\n",
      "|   o     |    3   |\n",
      "|   p     |    1   |\n",
      "|   t     |    1   |\n",
      "|   v     |    1   |\n",
      "|   y     |    1   |\n",
      "--------------------\n"
     ]
    }
   ],
   "source": [
    "string = input(\"Enter the sentence: \")\n",
    "occ = {}\n",
    "for i in string:\n",
    "    if i.isalpha():\n",
    "        if i in occ:\n",
    "            occ[i.lower()] += 1\n",
    "        else:\n",
    "            occ[i.lower()] = 1\n",
    "print(\"--------------------\")\n",
    "print(\"| Letters | Counts |\")\n",
    "print(\"--------------------\")\n",
    "for k in sorted(occ):\n",
    "    print(\"|  \", k, \"    |   \" ,occ[k], \"  |\")\n",
    "print(\"--------------------\")"
   ]
  }
 ],
 "metadata": {
  "kernelspec": {
   "display_name": "Python 3",
   "language": "python",
   "name": "python3"
  },
  "language_info": {
   "codemirror_mode": {
    "name": "ipython",
    "version": 3
   },
   "file_extension": ".py",
   "mimetype": "text/x-python",
   "name": "python",
   "nbconvert_exporter": "python",
   "pygments_lexer": "ipython3",
   "version": "3.7.6"
  }
 },
 "nbformat": 4,
 "nbformat_minor": 4
}
