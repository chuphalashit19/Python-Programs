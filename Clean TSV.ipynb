{
 "cells": [
  {
   "cell_type": "code",
   "execution_count": 9,
   "metadata": {},
   "outputs": [
    {
     "name": "stdout",
     "output_type": "stream",
     "text": [
      "QAT Qatar 2001 41,215 615000 \n",
      "\n",
      "CMR Cameroon 2001 3.324 16358000 \n",
      "\n",
      "COD  Democratic Republic  of  Congo  2006 1,553 56578000 \n",
      "\n",
      "BGR Bulgaria 2001 48.923 7931000 \n",
      "\n",
      "POL Poland 2001 306.696 38489000 \n",
      "\n",
      "LSO Lesotho 1975  1161000 \n",
      "\n",
      "ALB Albania 2002 3,748 3126000 \n",
      "\n",
      "COL Colombia 2015 93.084 47521000 \n",
      "\n",
      "PAK Pakistan 2012 166,33 187280000 \n",
      "\n",
      "COL Colombia 2001 56,259 39630000 \n",
      "\n"
     ]
    }
   ],
   "source": [
    "import csv\n",
    "lis = []\n",
    "\n",
    "def final_clean(filename1, filename2):\n",
    "    tsv_file = open(filename1)\n",
    "    read_tsv = csv.reader(tsv_file, delimiter=\"\\t\")\n",
    "    for row in read_tsv:\n",
    "        row =\n",
    "        x=5\n",
    "        res=[row[y-x:y] for y in range(x, len(row)+x,x)]\n",
    "        print(res)\n",
    "        \n",
    "final_clean(\"small_tab_sep_co2_data.tsv\", \"small_clean_co2_data.tsv\")"
   ]
  },
  {
   "cell_type": "code",
   "execution_count": null,
   "metadata": {},
   "outputs": [],
   "source": [
    "with open('/tmp/output.tsv', 'wt') as out_file:\n",
    "        tsv_writer = csv.writer(out_file, delimiter='\\t')\n",
    "        tsv_writer.writerow(['name', 'field'])"
   ]
  },
  {
   "cell_type": "code",
   "execution_count": null,
   "metadata": {},
   "outputs": [],
   "source": []
  }
 ],
 "metadata": {
  "kernelspec": {
   "display_name": "Python 3",
   "language": "python",
   "name": "python3"
  },
  "language_info": {
   "codemirror_mode": {
    "name": "ipython",
    "version": 3
   },
   "file_extension": ".py",
   "mimetype": "text/x-python",
   "name": "python",
   "nbconvert_exporter": "python",
   "pygments_lexer": "ipython3",
   "version": "3.7.6"
  }
 },
 "nbformat": 4,
 "nbformat_minor": 4
}
