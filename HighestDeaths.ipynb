{
 "cells": [
  {
   "cell_type": "code",
   "execution_count": 43,
   "metadata": {},
   "outputs": [
    {
     "name": "stdout",
     "output_type": "stream",
     "text": [
      "Country      Deaths_per_million\n",
      "Andorra          1307.19\n",
      "Argentina          1060.519\n",
      "Albania          475.711\n",
      "Antigua          71.481\n",
      "Algeria          65.859\n",
      "Afghanistan          61.652\n",
      "China          45.6\n",
      "Pakistan          45.34\n",
      "India          34.6\n",
      "Japan          22.4\n",
      "Singapore          14.445\n",
      "Angola          14.118\n"
     ]
    }
   ],
   "source": [
    "import csv\n",
    "filename = \"covid_data.csv\"\n",
    "with open(filename, 'r') as file:\n",
    "    csv_file = csv.reader(file)\n",
    "    lis = list(csv_file)\n",
    "\n",
    "dict = {}    \n",
    "    \n",
    "for i in range(len(lis)):\n",
    "    if i != 0:\n",
    "        for j in range(len(lis[i])):\n",
    "            if j == 10:\n",
    "                val = float(lis[i][j])\n",
    "                dict[val] = i\n",
    "sorted_dict = {}\n",
    "for i in sorted(dict) :\n",
    "    sorted_dict[i] = dict[i]\n",
    "\n",
    "highest_deaths = []\n",
    "    \n",
    "for k in reversed(list(sorted_dict.keys())):\n",
    "    for i in range(len(lis)):\n",
    "        new_lis = []\n",
    "        if i != 0:\n",
    "            if sorted_dict[k] == i:\n",
    "                new_lis.append(lis[i][2])\n",
    "                new_lis.append(k)\n",
    "                highest_deaths.append(new_lis)\n",
    "\n",
    "print(\"Country      Deaths_per_million\")\n",
    "for i in highest_deaths:\n",
    "    print(i[0], \"        \", i[1])"
   ]
  },
  {
   "cell_type": "code",
   "execution_count": null,
   "metadata": {},
   "outputs": [],
   "source": []
  }
 ],
 "metadata": {
  "kernelspec": {
   "display_name": "Python 3",
   "language": "python",
   "name": "python3"
  },
  "language_info": {
   "codemirror_mode": {
    "name": "ipython",
    "version": 3
   },
   "file_extension": ".py",
   "mimetype": "text/x-python",
   "name": "python",
   "nbconvert_exporter": "python",
   "pygments_lexer": "ipython3",
   "version": "3.7.6"
  }
 },
 "nbformat": 4,
 "nbformat_minor": 4
}
