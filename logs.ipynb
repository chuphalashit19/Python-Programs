{
 "cells": [
  {
   "cell_type": "code",
   "execution_count": 47,
   "metadata": {},
   "outputs": [
    {
     "name": "stdout",
     "output_type": "stream",
     "text": [
      "['146.204.224.152', '', '', 'feest6811', '[21/Jun/2019:15:45:24', '', '0700]', '\"POST', '/incentivize', 'HTTP/1.1\"', '302', '4622\\n']\n",
      "['146.204.224.152', '', '', 'feest6811', '[21/Jun/2019:15:45:24', '', '0700]', '\"POST', '/incentivize', 'HTTP/1.1\"', '302', '4621']\n"
     ]
    }
   ],
   "source": [
    "import re\n",
    "\n",
    "def logs():\n",
    "    with open(\"logdata.txt\", \"r\") as file:\n",
    "        logdata = file.readlines()\n",
    "        for i in logdata:\n",
    "            print(re.split('[-  ]', i))\n",
    "    \n",
    "logs()"
   ]
  }
 ],
 "metadata": {
  "kernelspec": {
   "display_name": "Python 3",
   "language": "python",
   "name": "python3"
  },
  "language_info": {
   "codemirror_mode": {
    "name": "ipython",
    "version": 3
   },
   "file_extension": ".py",
   "mimetype": "text/x-python",
   "name": "python",
   "nbconvert_exporter": "python",
   "pygments_lexer": "ipython3",
   "version": "3.7.6"
  }
 },
 "nbformat": 4,
 "nbformat_minor": 4
}
