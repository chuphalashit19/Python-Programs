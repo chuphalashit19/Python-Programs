{
 "cells": [
  {
   "cell_type": "code",
   "execution_count": null,
   "metadata": {},
   "outputs": [],
   "source": [
    "def pattern(n):\n",
    "    a = 64\n",
    "    for i in range(1, n+1):\n",
    "        for j in range()"
   ]
  },
  {
   "cell_type": "code",
   "execution_count": 14,
   "metadata": {},
   "outputs": [
    {
     "name": "stdout",
     "output_type": "stream",
     "text": [
      "Enter how many lines: 4\n",
      "A \n",
      "B A B \n",
      "C B A B C \n",
      "D C B A B C D \n",
      "A \n",
      "B A B \n",
      "C B A B C \n",
      "D C B A B C D \n"
     ]
    }
   ],
   "source": [
    "row = int(input('Enter how many lines: '))\n",
    "\n",
    "a = 64\n",
    "# Generating pattern\n",
    "for i in range(1,row+1):\n",
    "    \n",
    "    # for decreasing pattern\n",
    "    for j in range(i,0,-1):\n",
    "        print('%c' % (a+j), end=' ')\n",
    "    \n",
    "    # for increasing pattern \n",
    "    for j in range(2,i+1):\n",
    "        print('%c' % (a+j), end=' ')\n",
    "        \n",
    "    # Moving to next line\n",
    "    print()\n",
    "\n",
    "for i in range(1,row+1):\n",
    "    \n",
    "    for j in range(i,0,-1):\n",
    "        print('%c' % (a+j), end=' ')\n",
    "    \n",
    "    for j in range(2,i+1):\n",
    "        print('%c' % (a+j), end=' ')\n",
    "        \n",
    "    print()"
   ]
  },
  {
   "cell_type": "code",
   "execution_count": null,
   "metadata": {},
   "outputs": [],
   "source": [
    "row = int(input('Enter how many lines? '))\n",
    "\n",
    "a = 64\n",
    "# Generating pattern\n",
    "for i in range(1,row+1):\n",
    "    \n",
    "    # for increasing pattern\n",
    "    for j in range(1,i+1):\n",
    "        print('%c' %(a+j), end=' ')\n",
    "    \n",
    "    # for decreasing pattern \n",
    "    for j in range(i-1,0,-1):\n",
    "        print('%c' %(a+j), end=' ')\n",
    "    \n",
    "    # Moving to next line\n",
    "    print()"
   ]
  }
 ],
 "metadata": {
  "kernelspec": {
   "display_name": "Python 3",
   "language": "python",
   "name": "python3"
  },
  "language_info": {
   "codemirror_mode": {
    "name": "ipython",
    "version": 3
   },
   "file_extension": ".py",
   "mimetype": "text/x-python",
   "name": "python",
   "nbconvert_exporter": "python",
   "pygments_lexer": "ipython3",
   "version": "3.7.6"
  }
 },
 "nbformat": 4,
 "nbformat_minor": 4
}
