{
 "cells": [
  {
   "cell_type": "code",
   "execution_count": 9,
   "metadata": {},
   "outputs": [
    {
     "name": "stdout",
     "output_type": "stream",
     "text": [
      "Slice\n"
     ]
    }
   ],
   "source": [
    "str = \"Python Slicing\"\n",
    "l = ['P', 'y', 't', 'h', 'o', 'n', ' ', 'S', 'l', 'i', 'c', 'i', 'n', 'g']\n",
    "t = ('P', 'y', 't', 'h', 'o', 'n', ' ', 'S', 'l', 'i', 'c', 'i', 'n', 'g')\n",
    "\n",
    "print(str[7:11]+'e')"
   ]
  },
  {
   "cell_type": "code",
   "execution_count": 44,
   "metadata": {},
   "outputs": [
    {
     "name": "stdout",
     "output_type": "stream",
     "text": [
      "['S', 'i', 'n', 'g']\n",
      "('o', 'n')\n"
     ]
    }
   ],
   "source": [
    "lis = l[7:8] + l[-3::]\n",
    "song = lis\n",
    "print(song)\n",
    "\n",
    "tup = t[4:6:]\n",
    "notOff = tup\n",
    "print(notOff)"
   ]
  },
  {
   "cell_type": "code",
   "execution_count": 48,
   "metadata": {},
   "outputs": [
    {
     "name": "stdout",
     "output_type": "stream",
     "text": [
      "How many characters would you like to extract: 3\n",
      "Pyt\n",
      "['P', 'y', 't']\n",
      "('P', 'y', 't')\n"
     ]
    }
   ],
   "source": [
    "n = int(input(\"How many characters would you like to extract: \"))\n",
    "\n",
    "#a\n",
    "print(str[:n:])\n",
    "\n",
    "#b\n",
    "print(l[:n:])\n",
    "\n",
    "#c\n",
    "print(t[:n:])"
   ]
  },
  {
   "cell_type": "code",
   "execution_count": 51,
   "metadata": {},
   "outputs": [
    {
     "name": "stdout",
     "output_type": "stream",
     "text": [
      "gnicilS nohtyP\n",
      "['g', 'n', 'i', 'c', 'i', 'l', 'S', ' ', 'n', 'o', 'h', 't', 'y', 'P']\n",
      "('g', 'n', 'i', 'c', 'i', 'l', 'S', ' ', 'n', 'o', 'h', 't', 'y', 'P')\n"
     ]
    }
   ],
   "source": [
    "n = -1\n",
    "\n",
    "#a\n",
    "print(str[::n])\n",
    "\n",
    "#b\n",
    "print(l[::n])\n",
    "\n",
    "#c\n",
    "print(t[::n])"
   ]
  }
 ],
 "metadata": {
  "kernelspec": {
   "display_name": "Python 3",
   "language": "python",
   "name": "python3"
  },
  "language_info": {
   "codemirror_mode": {
    "name": "ipython",
    "version": 3
   },
   "file_extension": ".py",
   "mimetype": "text/x-python",
   "name": "python",
   "nbconvert_exporter": "python",
   "pygments_lexer": "ipython3",
   "version": "3.7.6"
  }
 },
 "nbformat": 4,
 "nbformat_minor": 4
}
