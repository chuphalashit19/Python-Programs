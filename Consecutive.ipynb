{
 "cells": [
  {
   "cell_type": "code",
   "execution_count": 3,
   "metadata": {},
   "outputs": [
    {
     "name": "stdout",
     "output_type": "stream",
     "text": [
      "True\n",
      "False\n"
     ]
    }
   ],
   "source": [
    "def consecutive_check(array):\n",
    "    count = 0\n",
    "    \n",
    "    for i in range(0, 6):\n",
    "        for j in range(i+1, 6):\n",
    "            if array[i] == array[j]-1:\n",
    "                count += 1\n",
    "    \n",
    "    if count > 0:\n",
    "        return True\n",
    "    else:\n",
    "        return False\n",
    "\n",
    "A = [10, 7, 21, 18, 45, 22]\n",
    "B = [24, 15, 18, 18, 42, 22]\n",
    "\n",
    "print(consecutive_check(A))\n",
    "print(consecutive_check(B))"
   ]
  }
 ],
 "metadata": {
  "kernelspec": {
   "display_name": "Python 3",
   "language": "python",
   "name": "python3"
  },
  "language_info": {
   "codemirror_mode": {
    "name": "ipython",
    "version": 3
   },
   "file_extension": ".py",
   "mimetype": "text/x-python",
   "name": "python",
   "nbconvert_exporter": "python",
   "pygments_lexer": "ipython3",
   "version": "3.7.6"
  }
 },
 "nbformat": 4,
 "nbformat_minor": 4
}
