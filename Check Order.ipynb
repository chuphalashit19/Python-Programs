{
 "cells": [
  {
   "cell_type": "code",
   "execution_count": 4,
   "metadata": {},
   "outputs": [
    {
     "name": "stdout",
     "output_type": "stream",
     "text": [
      "Enter the sequence:bcdfejewe\n",
      "False\n",
      "False\n",
      "False\n"
     ]
    }
   ],
   "source": [
    "def is_ordered(sequence):\n",
    "    if isinstance(sequence, str):\n",
    "        sorted_sequence = ''.join(sorted(sequence))\n",
    "    \n",
    "    elif isinstance(sequence, list):\n",
    "        sorted_sequence = sorted(sequence)\n",
    "    \n",
    "    elif isinstance(sequence, tuple):\n",
    "        sorted_sequence = sorted(sequence)\n",
    "        sequence = list(sequence)\n",
    "    \n",
    "    if sequence == sorted_sequence:\n",
    "            return True\n",
    "    else:\n",
    "        return False\n",
    "\n",
    "sequence = input(\"Enter the sequence:\")\n",
    "lis = list(sequence)\n",
    "tup = tuple(sequence)\n",
    "\n",
    "print(is_ordered(sequence))\n",
    "print(is_ordered(lis))\n",
    "print(is_ordered(tup))"
   ]
  }
 ],
 "metadata": {
  "kernelspec": {
   "display_name": "Python 3",
   "language": "python",
   "name": "python3"
  },
  "language_info": {
   "codemirror_mode": {
    "name": "ipython",
    "version": 3
   },
   "file_extension": ".py",
   "mimetype": "text/x-python",
   "name": "python",
   "nbconvert_exporter": "python",
   "pygments_lexer": "ipython3",
   "version": "3.7.6"
  }
 },
 "nbformat": 4,
 "nbformat_minor": 4
}
