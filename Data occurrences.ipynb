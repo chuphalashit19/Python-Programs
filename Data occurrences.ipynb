{
 "cells": [
  {
   "cell_type": "code",
   "execution_count": 1,
   "metadata": {},
   "outputs": [
    {
     "name": "stdout",
     "output_type": "stream",
     "text": [
      "Counter({'$': 24, '#': 23, '^': 23, '@': 22, '%': 22, '*': 18, '&': 18, '(': 15, '!': 12, ')': 11, '}': 10, '{': 7, '\\n': 6, '?': 5, '+': 5, ':': 3, '>': 2, '\"': 1, '<': 1, '|': 1, '_': 1})\n"
     ]
    }
   ],
   "source": [
    "from collections import Counter\n",
    "data1 = open(\"data1.txt\",\"r\")\n",
    "string = \"\"\n",
    "for i in data1:\n",
    "    string += i\n",
    "print(Counter(string))"
   ]
  }
 ],
 "metadata": {
  "kernelspec": {
   "display_name": "Python 3",
   "language": "python",
   "name": "python3"
  },
  "language_info": {
   "codemirror_mode": {
    "name": "ipython",
    "version": 3
   },
   "file_extension": ".py",
   "mimetype": "text/x-python",
   "name": "python",
   "nbconvert_exporter": "python",
   "pygments_lexer": "ipython3",
   "version": "3.7.6"
  }
 },
 "nbformat": 4,
 "nbformat_minor": 4
}
