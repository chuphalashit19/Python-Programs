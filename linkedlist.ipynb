{
 "cells": [
  {
   "cell_type": "code",
   "execution_count": 1,
   "metadata": {},
   "outputs": [],
   "source": [
    "class Node(object):\n",
    "\n",
    "    def __init__(self, data=None, nextNode=None):\n",
    "        self.data = data\n",
    "        self.nextNode = nextNode\n",
    "\n",
    "class linkedList(object):\n",
    "\n",
    "    def __init__(self, head=None):\n",
    "        self.head = head\n",
    "        self.size = 0\n",
    "\n",
    "    def insert(self, node):\n",
    "        if not self.head:\n",
    "            self.head = node\n",
    "            self.size += 1\n",
    "        else:\n",
    "            # set new nodes pointer to old head\n",
    "            node.nextNode = self.head\n",
    "            # reset head to new node\n",
    "            self.head = node\n",
    "            self.size +=1\n",
    "\n",
    "    def getSize(self):\n",
    "        return self.size\n",
    "\n",
    "    def printLL(self):\n",
    "        mynode = self.head\n",
    "        c = 0\n",
    "        while mynode:\n",
    "            c += 1\n",
    "            print(mynode.data, c)\n",
    "            mynode = mynode.nextNode\n",
    "    \n",
    "    def getNum(self, index): \n",
    "        current = self.head  # Initialise temp \n",
    "        count = 0  # Index of current node \n",
    "  \n",
    "        # Loop while end of linked list is not reached \n",
    "        while (current):\n",
    "            if (count == index): \n",
    "                return current.data \n",
    "            count += 1\n",
    "            current = current.nextNode\n",
    "  \n",
    "        # if we get to this line, the caller was asking \n",
    "        # for a non-existent element so we assert fail \n",
    "        assert(false)\n",
    "        return 0"
   ]
  }
 ],
 "metadata": {
  "kernelspec": {
   "display_name": "Python 3",
   "language": "python",
   "name": "python3"
  },
  "language_info": {
   "codemirror_mode": {
    "name": "ipython",
    "version": 3
   },
   "file_extension": ".py",
   "mimetype": "text/x-python",
   "name": "python",
   "nbconvert_exporter": "python",
   "pygments_lexer": "ipython3",
   "version": "3.7.6"
  }
 },
 "nbformat": 4,
 "nbformat_minor": 4
}
