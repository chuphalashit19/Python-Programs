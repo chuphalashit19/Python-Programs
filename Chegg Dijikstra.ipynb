{
 "cells": [
  {
   "cell_type": "code",
   "execution_count": 30,
   "metadata": {},
   "outputs": [
    {
     "name": "stdout",
     "output_type": "stream",
     "text": [
      "Enter the source node: u\n",
      "3\n"
     ]
    }
   ],
   "source": [
    "import csv\n",
    "print(\"Enter the source node: \", end = \"\")\n",
    "snode = input()\n",
    "mincost = 10000\n",
    "with open('data.csv', 'r') as file:\n",
    "    reader = csv.reader(file)\n",
    "    for i in reader:\n",
    "        if i[0] == snode:\n",
    "            for j in range(len(i)):\n",
    "                if j != 0:\n",
    "                    if i[j] != '0':\n",
    "                        mincost = min(mincost,int(i[j]))\n",
    "                        "
   ]
  },
  {
   "cell_type": "code",
   "execution_count": 20,
   "metadata": {},
   "outputs": [
    {
     "name": "stdout",
     "output_type": "stream",
     "text": [
      "['ï»¿', 'u', 'v', 'w', 'x', 'y', 'z']\n",
      "['u', '0', '7', '3', '5', '9999', '9999']\n",
      "['v', '7', '0', '3', '9999', '4', '9999']\n",
      "['w', '3', '3', '0', '4', '8', '9999']\n",
      "['x', '5', '9999', '4', '0', '7', '9']\n",
      "['y', '9999', '4', '8', '7', '0', '2']\n",
      "['z', '9999', '9999', '9999', '9', '2', '0']\n"
     ]
    }
   ],
   "source": [
    "import csv\n",
    "with open('data.csv', 'r') as file:\n",
    "    reader = csv.reader(file)\n",
    "    for row in reader:\n",
    "        print(row)"
   ]
  }
 ],
 "metadata": {
  "kernelspec": {
   "display_name": "Python 3",
   "language": "python",
   "name": "python3"
  },
  "language_info": {
   "codemirror_mode": {
    "name": "ipython",
    "version": 3
   },
   "file_extension": ".py",
   "mimetype": "text/x-python",
   "name": "python",
   "nbconvert_exporter": "python",
   "pygments_lexer": "ipython3",
   "version": "3.7.6"
  }
 },
 "nbformat": 4,
 "nbformat_minor": 4
}
