{
 "cells": [
  {
   "cell_type": "code",
   "execution_count": 3,
   "metadata": {},
   "outputs": [
    {
     "name": "stdout",
     "output_type": "stream",
     "text": [
      "Enter the number to find factorial: 5\n",
      "Factorial of 5 = 120\n"
     ]
    }
   ],
   "source": [
    "n = int(input(\"Enter the number to find factorial: \"))\n",
    "\n",
    "fact = 1\n",
    "\n",
    "for i in range(1, n):\n",
    "    fact += fact*i\n",
    "    \n",
    "print(\"Factorial of\", n, \"=\", fact)"
   ]
  }
 ],
 "metadata": {
  "kernelspec": {
   "display_name": "Python 3",
   "language": "python",
   "name": "python3"
  },
  "language_info": {
   "codemirror_mode": {
    "name": "ipython",
    "version": 3
   },
   "file_extension": ".py",
   "mimetype": "text/x-python",
   "name": "python",
   "nbconvert_exporter": "python",
   "pygments_lexer": "ipython3",
   "version": "3.7.6"
  }
 },
 "nbformat": 4,
 "nbformat_minor": 4
}
