{
 "cells": [
  {
   "cell_type": "code",
   "execution_count": 8,
   "metadata": {},
   "outputs": [
    {
     "name": "stdout",
     "output_type": "stream",
     "text": [
      "Enter a value: 13.37\n",
      "13.37\n",
      "Enter coins: 1,.20,.10,.05,.01\n",
      "{'1 coin': 13, '.20 coin': 1, '.10 coin': 1, '.05 coin': 1, '.01 coin': 2}\n"
     ]
    }
   ],
   "source": [
    "val = float(input(\"Enter a value: \"))\n",
    "print(val)\n",
    "lis = input(\"Enter coins: \").split(',')\n",
    "dict = {\"1 coin\": 0, \".20 coin\": 0, \".10 coin\": 0, \".05 coin\": 0, \".01 coin\": 0}\n",
    "for i in range(len(lis)):\n",
    "    if i == 0:\n",
    "        while(val >= 1):\n",
    "            dict[\"1 coin\"] += 1\n",
    "            val = round(val, 2)\n",
    "            val = val - 1\n",
    "    if i == 1:\n",
    "        while(val >= 0.20):\n",
    "            dict[\".20 coin\"] += 1\n",
    "            val = round(val, 2)\n",
    "            val = val - 0.20\n",
    "    if i == 2:\n",
    "        while(val >= 0.10):\n",
    "            dict[\".10 coin\"] += 1\n",
    "            val = round(val, 2)\n",
    "            val = val - 0.10\n",
    "    if i == 3:\n",
    "        while(val >= 0.05):\n",
    "            dict[\".05 coin\"] += 1\n",
    "            val = round(val, 2)\n",
    "            val = val - 0.05\n",
    "    if i == 4:\n",
    "        while(val >= 0.01):\n",
    "            dict[\".01 coin\"] += 1\n",
    "            val = round(val, 2)\n",
    "            val = val - 0.01\n",
    "print(dict)"
   ]
  }
 ],
 "metadata": {
  "kernelspec": {
   "display_name": "Python 3",
   "language": "python",
   "name": "python3"
  },
  "language_info": {
   "codemirror_mode": {
    "name": "ipython",
    "version": 3
   },
   "file_extension": ".py",
   "mimetype": "text/x-python",
   "name": "python",
   "nbconvert_exporter": "python",
   "pygments_lexer": "ipython3",
   "version": "3.7.6"
  }
 },
 "nbformat": 4,
 "nbformat_minor": 4
}
