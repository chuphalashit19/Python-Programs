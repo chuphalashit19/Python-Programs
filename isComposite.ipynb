{
 "cells": [
  {
   "cell_type": "code",
   "execution_count": 2,
   "metadata": {},
   "outputs": [
    {
     "name": "stdout",
     "output_type": "stream",
     "text": [
      "true\n",
      "true\n"
     ]
    }
   ],
   "source": [
    "def isComposite(n): \n",
    "  \n",
    "    # Corner cases \n",
    "    if (n <= 1): # 4 <= 1\n",
    "        return False\n",
    "    if (n <= 3): 4 <= 3\n",
    "        return False\n",
    "  \n",
    "    # This is checked so that we can skip  \n",
    "    # middle five numbers in below loop \n",
    "    if (n % 2 == 0 or n % 3 == 0):  \n",
    "        return True\n",
    "    i = 5\n",
    "    while(i * i <= n): \n",
    "          \n",
    "        if (n % i == 0 or n % (i + 2) == 0): \n",
    "            return True\n",
    "        i = i + 6\n",
    "          \n",
    "    return False\n",
    "  \n",
    "# Driver Program to test above function \n",
    "  \n",
    "print(\"true\") if(isComposite(4)) else print(\"false\") \n",
    "print(\"true\") if(isComposite(15)) else print(\"false\") \n",
    "# This code is contributed by Anant Agarwal. "
   ]
  }
 ],
 "metadata": {
  "kernelspec": {
   "display_name": "Python 3",
   "language": "python",
   "name": "python3"
  },
  "language_info": {
   "codemirror_mode": {
    "name": "ipython",
    "version": 3
   },
   "file_extension": ".py",
   "mimetype": "text/x-python",
   "name": "python",
   "nbconvert_exporter": "python",
   "pygments_lexer": "ipython3",
   "version": "3.7.6"
  }
 },
 "nbformat": 4,
 "nbformat_minor": 4
}
