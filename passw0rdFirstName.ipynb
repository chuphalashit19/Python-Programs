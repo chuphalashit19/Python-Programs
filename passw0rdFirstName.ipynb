{
 "cells": [
  {
   "cell_type": "code",
   "execution_count": 7,
   "metadata": {},
   "outputs": [
    {
     "name": "stdout",
     "output_type": "stream",
     "text": [
      "Myname!\n",
      " – Password is not accepted.\n",
      "Password is not 10 characters long.\n",
      "\n",
      "Password Accepted\n",
      "\n",
      "Nameis karan\n",
      " – Password is not accepted.\n",
      "Password should have atleast two digits\n",
      "\n",
      "Password Accepted\n",
      "\n",
      "castItOut! – Password is not accepted.\n",
      "Password should have atleast two digits\n",
      "\n"
     ]
    }
   ],
   "source": [
    "def checkPassw0rd(psswd):\n",
    "    lower = digit = spec = space = 0         #initializing the variables to track count\n",
    "    for i in psswd:                          #iterating through each character of password\n",
    "        if i.islower():                      #if the character is lower we increment lower value\n",
    "            lower+=1\n",
    "        if i.isdigit():                      #if the character is digit we increment digit value\n",
    "            digit+=1\n",
    "        if not i.isalnum() and not i.isspace():     #if the character is special and not a space\n",
    "            spec += 1                               #we increment spec value as space is not special character\n",
    "        if i == \" \":                               #if the character is space we increment space value\n",
    "            space+=1\n",
    "    \n",
    "    if len(psswd) >= 10:                         #to check if the length is strong having 10 or more\n",
    "        if any(x.isupper() for x in psswd):      #if atleast one uppercase is found returns true else false\n",
    "            if lower >= 3:                       #if the lower count is greater than or equal to 3\n",
    "                if digit >= 2:                  #if the password has atleast two digits\n",
    "                    if spec == 1:               #if only one special character is present\n",
    "                        if space == 0:          #if there is no space in password\n",
    "                            print(\"Password Accepted\")\n",
    "                            file1 = open('firstnamepasswdout.txt', 'a')   #opening the file in append mode to write in file\n",
    "                            file1.write(psswd)            # writing the password into file using write function\n",
    "                            file1.close()                 #close the file once appended\n",
    "                        \n",
    "                        else:\n",
    "                            print(str(psswd)+ \" – Password is not accepted.\")\n",
    "                            print(\"Password should not have space.\")\n",
    "                    else:\n",
    "                        print(str(psswd)+ \" – Password is not accepted.\")\n",
    "                        print(\"Password should have only one special character.\")\n",
    "                else:\n",
    "                    print(str(psswd)+ \" – Password is not accepted.\")\n",
    "                    print(\"Password should have atleast two digits\")\n",
    "            else:\n",
    "                print(str(psswd) + \" – Password is not accepted.\")\n",
    "                print(\"Password should have atleast 3 lowercase letters.\")\n",
    "        else:\n",
    "            print(str(psswd)+ \" – Password is not accepted.\")\n",
    "            print(\"Password should have atleast one uppercase letter.\")\n",
    "    else:\n",
    "        print(str(psswd)+ \" – Password is not accepted.\")\n",
    "        print(\"Password is not 10 characters long.\")\n",
    "    print()\n",
    "                \n",
    "\n",
    "if __name__ == \"__main__\":\n",
    "    file = open(\"passwdin.txt\", \"r\")       #open the file in read mode\n",
    "    lines = file.readlines()               #using readlines() to read all lines in file\n",
    "    \n",
    "    for line in lines:                    #iterating through each line in a file\n",
    "        checkPassw0rd(line)               #function call to check password\n",
    "        \n",
    "    file.close()                         #once everything is done close the read mode of file"
   ]
  }
 ],
 "metadata": {
  "kernelspec": {
   "display_name": "Python 3",
   "language": "python",
   "name": "python3"
  },
  "language_info": {
   "codemirror_mode": {
    "name": "ipython",
    "version": 3
   },
   "file_extension": ".py",
   "mimetype": "text/x-python",
   "name": "python",
   "nbconvert_exporter": "python",
   "pygments_lexer": "ipython3",
   "version": "3.7.6"
  }
 },
 "nbformat": 4,
 "nbformat_minor": 4
}
