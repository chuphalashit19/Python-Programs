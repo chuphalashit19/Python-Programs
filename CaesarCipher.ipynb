{
 "cells": [
  {
   "cell_type": "code",
   "execution_count": 12,
   "metadata": {},
   "outputs": [
    {
     "name": "stdout",
     "output_type": "stream",
     "text": [
      "Cipher text created in file!!!\n"
     ]
    }
   ],
   "source": [
    "def caesarCipher(filename, s):\n",
    "    file = open('PlainText.txt', 'r')\n",
    "    lines = file.readlines()\n",
    " \n",
    "    for string in lines:\n",
    "        resultString = \"\" \n",
    "        \n",
    "        for i in range(len(string)):\n",
    "            letter = string[i]\n",
    "            resultString += chr((ord(letter) + s - 97) % 26 + 97) \n",
    "        \n",
    "        file = open(\"Caesar_Encrypt.txt\", \"a\")  # append mode \n",
    "        file.write(resultString)\n",
    "        file.write(\"\\n\")\n",
    "        file.close()\n",
    "    print(\"Cipher text created in file!!!\")\n",
    "    \n",
    "filename = \"Clean.txt\"\n",
    "s = 4\n",
    "caesarCipher(filename, s)"
   ]
  },
  {
   "cell_type": "code",
   "execution_count": null,
   "metadata": {},
   "outputs": [],
   "source": []
  }
 ],
 "metadata": {
  "kernelspec": {
   "display_name": "Python 3",
   "language": "python",
   "name": "python3"
  },
  "language_info": {
   "codemirror_mode": {
    "name": "ipython",
    "version": 3
   },
   "file_extension": ".py",
   "mimetype": "text/x-python",
   "name": "python",
   "nbconvert_exporter": "python",
   "pygments_lexer": "ipython3",
   "version": "3.7.6"
  }
 },
 "nbformat": 4,
 "nbformat_minor": 4
}
