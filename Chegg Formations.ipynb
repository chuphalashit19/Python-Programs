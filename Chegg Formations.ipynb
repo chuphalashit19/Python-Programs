{
 "cells": [
  {
   "cell_type": "code",
   "execution_count": 107,
   "metadata": {},
   "outputs": [
    {
     "name": "stdout",
     "output_type": "stream",
     "text": [
      "Input in the formations.csv file are:\n",
      "\n",
      "             Depth                    Formation\n",
      "0          0-600.5  Green Mountain Conglomerate\n",
      "1    600.5-1505.65             Denver Formation\n",
      "2  1505.65-1805.65           Arapahoe Formation\n",
      "3  1805.65-2410.83            Laramie Formation\n",
      "\n",
      "Output in the formations_parsed.csv will contain:\n",
      "\n",
      "             Depth  Start Depth  End Depth  Average Depth  \\\n",
      "0          0-600.5         0.00     600.50          300.2   \n",
      "1    600.5-1505.65       600.50    1505.65         1053.1   \n",
      "2  1505.65-1805.65      1505.65    1805.65         1655.7   \n",
      "3  1805.65-2410.83      1805.65    2410.83         2108.2   \n",
      "\n",
      "                     Formation  \n",
      "0  Green Mountain Conglomerate  \n",
      "1             Denver Formation  \n",
      "2           Arapahoe Formation  \n",
      "3            Laramie Formation  \n"
     ]
    }
   ],
   "source": [
    "import pandas as pd\n",
    "\n",
    "#reading data from formations.csv file\n",
    "data = pd.read_csv('formations.csv')\n",
    "\n",
    "#printing data from formations.csv file\n",
    "print(\"Input in the formations.csv file are:\\n\")\n",
    "print(data)\n",
    "\n",
    "rows = []\n",
    "\n",
    "#using for loop we iterate through each row and column\n",
    "for index, row in data.iterrows():\n",
    "    \n",
    "    #fetches the row Depth from csv file\n",
    "    depth = row['Depth']\n",
    "    \n",
    "    #fetches the row Formation from csv file\n",
    "    formation = row['Formation']\n",
    "    \n",
    "    #splitting depth into start_depth and end_depth\n",
    "    start_depth, end_depth =  depth.split(\"-\")\n",
    "    \n",
    "    #coverting the value to float to perform operations later\n",
    "    start_depth = float(start_depth)\n",
    "    end_depth = float(end_depth)\n",
    "    \n",
    "    #finding average of start_depth and end_depth\n",
    "    average = round(((start_depth + end_depth)/2),1)\n",
    "    \n",
    "    #appending the each row with following data into the list rows[]\n",
    "    rows.append([depth,start_depth, end_depth, average,formation])\n",
    "\n",
    "#storing created dataframe into variable df with columns needed\n",
    "df = pd.DataFrame(rows, columns=[\"Depth\", \"Start Depth\", \"End Depth\", \"Average Depth\", \"Formation\"])\n",
    "\n",
    "#prints the dataframe where the output is stored\n",
    "print(\"\\nOutput in the formations_parsed.csv will contain:\\n\")\n",
    "print(df)\n",
    "\n",
    "#converting the dataframe to csv file\n",
    "#please change this C:\\Users\\ashit\\ to the location you wish to store your output csv file\n",
    "#make sure your both csv files are at same directory\n",
    "df.to_csv (r'C:\\Users\\ashit\\formations_parsed.csv', index = False, header=True)"
   ]
  }
 ],
 "metadata": {
  "kernelspec": {
   "display_name": "Python 3",
   "language": "python",
   "name": "python3"
  },
  "language_info": {
   "codemirror_mode": {
    "name": "ipython",
    "version": 3
   },
   "file_extension": ".py",
   "mimetype": "text/x-python",
   "name": "python",
   "nbconvert_exporter": "python",
   "pygments_lexer": "ipython3",
   "version": "3.7.6"
  }
 },
 "nbformat": 4,
 "nbformat_minor": 4
}
