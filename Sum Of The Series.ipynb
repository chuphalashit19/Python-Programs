{
 "cells": [
  {
   "cell_type": "code",
   "execution_count": 2,
   "metadata": {},
   "outputs": [
    {
     "name": "stdout",
     "output_type": "stream",
     "text": [
      "Enter the value of n for the series: 3\n",
      "Sum of the series: 48.6\n"
     ]
    }
   ],
   "source": [
    "n = int(input(\"Enter the value of n for the series: \"))\n",
    "i = 1\n",
    "sum_of_series = 0\n",
    "while i <= n:\n",
    "    sum_of_series += (n**(n+1))/(n+2)\n",
    "    i+=1\n",
    "    \n",
    "print(\"Sum of the series:\", round(sum_of_series, 2))"
   ]
  }
 ],
 "metadata": {
  "kernelspec": {
   "display_name": "Python 3",
   "language": "python",
   "name": "python3"
  },
  "language_info": {
   "codemirror_mode": {
    "name": "ipython",
    "version": 3
   },
   "file_extension": ".py",
   "mimetype": "text/x-python",
   "name": "python",
   "nbconvert_exporter": "python",
   "pygments_lexer": "ipython3",
   "version": "3.7.6"
  }
 },
 "nbformat": 4,
 "nbformat_minor": 4
}
