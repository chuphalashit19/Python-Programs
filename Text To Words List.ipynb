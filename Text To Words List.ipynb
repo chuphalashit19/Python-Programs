{
 "cells": [
  {
   "cell_type": "code",
   "execution_count": 4,
   "metadata": {},
   "outputs": [
    {
     "name": "stdout",
     "output_type": "stream",
     "text": [
      "List of words in Text: \n",
      "['Cosult', 'Python', 'Documentation', 'for', 'strings', 'to', 'refresh', 'yourself', 'on', 'how', 'to', 'break', 'apart', 'a', 'single', 'string', 'of', 'text', 'into', 'a', 'list', 'of', 'words']\n"
     ]
    }
   ],
   "source": [
    "def parse_text_into_words_v1(text):\n",
    "    lis = []\n",
    "    \n",
    "    lis = list(text.split(\" \"))\n",
    "    \n",
    "    return lis\n",
    "\n",
    "if __name__ == \"__main__\":\n",
    "    lis = []\n",
    "    text = \"Cosult Python Documentation for strings to refresh yourself on how to break apart a single string of text into a list of words\"\n",
    "    \n",
    "    lis = parse_text_into_words_v1(text)\n",
    "    print(\"List of words in Text: \")\n",
    "    print(lis)"
   ]
  }
 ],
 "metadata": {
  "kernelspec": {
   "display_name": "Python 3",
   "language": "python",
   "name": "python3"
  },
  "language_info": {
   "codemirror_mode": {
    "name": "ipython",
    "version": 3
   },
   "file_extension": ".py",
   "mimetype": "text/x-python",
   "name": "python",
   "nbconvert_exporter": "python",
   "pygments_lexer": "ipython3",
   "version": "3.7.6"
  }
 },
 "nbformat": 4,
 "nbformat_minor": 4
}
