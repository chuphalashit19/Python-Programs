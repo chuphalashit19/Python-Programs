{
 "cells": [
  {
   "cell_type": "code",
   "execution_count": 3,
   "metadata": {},
   "outputs": [
    {
     "name": "stdout",
     "output_type": "stream",
     "text": [
      "Cost is 45.25\n",
      "Enter a payment: quit\n",
      "Enter coins: 1,.35,.23,.12,.03,.01\n",
      "\n",
      "Goodbye!!\n"
     ]
    }
   ],
   "source": [
    "cost = float(input(\"Cost is \"))\n",
    "pay = input(\"Enter a payment: \")\n",
    "lis = list(map(float, input(\"Enter coins: \").split(',')))\n",
    "while(pay != 'quit'):\n",
    "    pay = float(pay)\n",
    "    val = abs(cost - pay)\n",
    "    dict = {\"1\": 0, \"2\": 0, \"3\": 0, \"4\": 0, \"5\": 0, '6': 0}\n",
    "    for i in range(len(lis)):\n",
    "        if i == 0:\n",
    "            while(val >= 1):\n",
    "                val = round(val, 2)\n",
    "                val = val - 1\n",
    "                dict['1'] += 1\n",
    "        if i == 1:\n",
    "            while(val >= lis[1]):\n",
    "                val = round(val, 2)\n",
    "                val = val - lis[1]\n",
    "                dict['2'] += 1\n",
    "        if i == 2:\n",
    "            while(val >= lis[2]):\n",
    "                val = round(val, 2)\n",
    "                val = val - lis[2]\n",
    "                dict['3'] += 1\n",
    "        if i == 3:\n",
    "            while(val >= lis[3]):\n",
    "                val = round(val, 2)\n",
    "                val = val - lis[3]\n",
    "                dict['4'] += 1\n",
    "        if i == 4:\n",
    "            while(val >= lis[4]):\n",
    "                val = round(val, 2)\n",
    "                val = val - lis[4]\n",
    "                dict['5'] += 1\n",
    "        if i == 5:\n",
    "            while(val >= lis[5]):\n",
    "                val = round(val, 2)\n",
    "                val = val - lis[5]\n",
    "                dict['6'] += 1\n",
    "    if cost > pay:\n",
    "        print(\"needed: \")\n",
    "    else:\n",
    "        print(\"change: \")\n",
    "    for key, value in dict.items():\n",
    "        if key == '1':\n",
    "            if(value >= 1):\n",
    "                print(value, round(lis[0]), \"coins\", end =\", \")\n",
    "    \n",
    "        if key == '2':\n",
    "            if(value >= 1):\n",
    "                print(value, lis[1], \"coins\", end = \", \")\n",
    "    \n",
    "        if key == '3':\n",
    "            if(value >= 1):\n",
    "                print(value, lis[2], \"coins\", end =\", \")\n",
    "    \n",
    "        if key == '4':\n",
    "            if(value >= 1):\n",
    "                print(value, lis[3], \"coins\", end =\", \")\n",
    "    \n",
    "        if key == '5':\n",
    "            if(value >= 1):\n",
    "                print(value, lis[4], \"coins\", end =\", \")\n",
    "    \n",
    "        if key == '6':\n",
    "            if(value >= 1):\n",
    "                print(value, lis[5], \"coins\")\n",
    "    pay = \"quit\"\n",
    "                \n",
    "print(\"\\nGoodbye!!\")"
   ]
  },
  {
   "cell_type": "code",
   "execution_count": null,
   "metadata": {},
   "outputs": [],
   "source": [
    "1,.35,.23,.12,.03,.01"
   ]
  }
 ],
 "metadata": {
  "kernelspec": {
   "display_name": "Python 3",
   "language": "python",
   "name": "python3"
  },
  "language_info": {
   "codemirror_mode": {
    "name": "ipython",
    "version": 3
   },
   "file_extension": ".py",
   "mimetype": "text/x-python",
   "name": "python",
   "nbconvert_exporter": "python",
   "pygments_lexer": "ipython3",
   "version": "3.7.6"
  }
 },
 "nbformat": 4,
 "nbformat_minor": 4
}
