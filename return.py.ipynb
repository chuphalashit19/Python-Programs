{
 "cells": [
  {
   "cell_type": "code",
   "execution_count": 1,
   "metadata": {},
   "outputs": [
    {
     "name": "stdout",
     "output_type": "stream",
     "text": [
      "Enter name: Karan\n",
      "Enter age: 20\n",
      "\n",
      "Student name: Karan\n",
      "Student age: 20\n"
     ]
    }
   ],
   "source": [
    "# return.py\n",
    "\n",
    "def student():        # a void function with parameter name and age\n",
    "    \n",
    "    name = input(\"Enter name: \")        # asking user to input student's name\n",
    "    age = input(\"Enter age: \")        # asking user to input student's age\n",
    "\n",
    "    return name, age                    #returning name and age to the function call\n",
    "\n",
    "if __name__ == \"__main__\":        # main function\n",
    "\n",
    "    name, age = student()                #calling function with parameters (name and age)\n",
    "    \n",
    "    print()\n",
    "    print(\"Student name:\", name)        # printing name of student retuned from fucntion\n",
    "    print(\"Student age:\", age)        # printing age of student returned from function"
   ]
  }
 ],
 "metadata": {
  "kernelspec": {
   "display_name": "Python 3",
   "language": "python",
   "name": "python3"
  },
  "language_info": {
   "codemirror_mode": {
    "name": "ipython",
    "version": 3
   },
   "file_extension": ".py",
   "mimetype": "text/x-python",
   "name": "python",
   "nbconvert_exporter": "python",
   "pygments_lexer": "ipython3",
   "version": "3.7.6"
  }
 },
 "nbformat": 4,
 "nbformat_minor": 4
}
