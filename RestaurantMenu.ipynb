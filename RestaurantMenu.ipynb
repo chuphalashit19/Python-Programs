{
 "cells": [
  {
   "cell_type": "code",
   "execution_count": 22,
   "metadata": {},
   "outputs": [
    {
     "name": "stdout",
     "output_type": "stream",
     "text": [
      "Number Name                           value\n",
      "1      Double Trouble Cheese Burger   $7.90\n",
      "2      Carl's Jr. Jalapeño Poppers    $8.82\n",
      "3      Fried Mayonnaise on a Stick    $14.53\n",
      "4      Danger Dog(w/ Dangerous Sauce) $9.96\n",
      "5      Wings                          $25.09\n",
      "1, 4, 4, 2\n",
      "Order Total: 36.64\n",
      "Dollars: 36\n",
      "Quarters: 2\n",
      "Dimes: 1\n",
      "Nickels: 0\n",
      "Pennies: 4\n"
     ]
    }
   ],
   "source": [
    "import math\n",
    "print(\"Number Name                           value\")\n",
    "print(\"1      Double Trouble Cheese Burger   $7.90\")\n",
    "print(\"2      Carl's Jr. Jalapeño Poppers    $8.82\")\n",
    "print(\"3      Fried Mayonnaise on a Stick    $14.53\")\n",
    "print(\"4      Danger Dog(w/ Dangerous Sauce) $9.96\")\n",
    "print(\"5      Wings                          $25.09\")\n",
    "b = list(map(int, input().split(\", \")))\n",
    "cost = 0\n",
    "for i in b:\n",
    "    if i == 1:\n",
    "        cost += 7.90\n",
    "    elif i == 2:\n",
    "        cost += 8.82\n",
    "    elif i == 3:\n",
    "        cost += 14.53\n",
    "    elif i ==  4:\n",
    "        cost += 9.96\n",
    "    else:\n",
    "        cost += 25.09\n",
    "print(\"Order Total:\", cost)\n",
    "dl = math.floor(cost)\n",
    "p = round(cost * 100)   # Converting dollars to pennies first\n",
    "c = p%100\n",
    "q, p = divmod(c, 25)\n",
    "d, p = divmod(p, 10)\n",
    "n, p = divmod(p, 5)\n",
    "print(\"Dollars:\", dl)\n",
    "print(\"Quarters:\",q)\n",
    "print(\"Dimes:\", d)\n",
    "print(\"Nickels:\", n)\n",
    "print(\"Pennies:\", p)"
   ]
  }
 ],
 "metadata": {
  "kernelspec": {
   "display_name": "Python 3",
   "language": "python",
   "name": "python3"
  },
  "language_info": {
   "codemirror_mode": {
    "name": "ipython",
    "version": 3
   },
   "file_extension": ".py",
   "mimetype": "text/x-python",
   "name": "python",
   "nbconvert_exporter": "python",
   "pygments_lexer": "ipython3",
   "version": "3.7.6"
  }
 },
 "nbformat": 4,
 "nbformat_minor": 4
}
