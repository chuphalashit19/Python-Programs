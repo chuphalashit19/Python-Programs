{
 "cells": [
  {
   "cell_type": "code",
   "execution_count": 11,
   "metadata": {},
   "outputs": [
    {
     "name": "stdout",
     "output_type": "stream",
     "text": [
      "Distance: 10 kms\n",
      "Time: 43.5 mins\n",
      "\n",
      "Average Speed :  0.23 km/min\n",
      "\n",
      "Time in seconds: 2610.0 secs\n",
      "\n",
      "Average speed in kms/sec: 0.00383 km/sec\n",
      "\n",
      "Kilometers To Miles: 6.21 miles\n",
      "\n",
      "Average Speed in miles/min: 0.14 miles/min\n"
     ]
    }
   ],
   "source": [
    "#Q1) Store all given inputs in variables (distance, and time).\n",
    "distance = 10    #distance in kms\n",
    "time = 43.5      #time in minutes where 0.5 is 30 seconds\n",
    "print(\"Distance:\", distance, \"kms\")\n",
    "print(\"Time:\", time, \"mins\")\n",
    "print()\n",
    "\n",
    "#Q2) Calculate the average speed in kilometer per minutes\n",
    "average_speed = distance/time\n",
    "print(\"Average Speed : \", round(average_speed, 2), \"km/min\")\n",
    "print()\n",
    "\n",
    "#Q3) Calculate the time in seconds.\n",
    "time_secs = time * 60\n",
    "print(\"Time in seconds:\", time_secs, \"secs\")\n",
    "print()\n",
    "\n",
    "#Q4) Calculate the average speed in kilometer per seconds\n",
    "avgspeed_kmspersec = distance/ time_secs\n",
    "print(\"Average speed in kms/sec:\", round(avgspeed_kmspersec, 5), \"km/sec\")\n",
    "print()\n",
    "\n",
    "#Q5) Write a function converts from kilometer to miles.\n",
    "def kms_to_miles(distance):\n",
    "    kms_to_miles = distance/1.61\n",
    "    return kms_to_miles\n",
    "print(\"Kilometers To Miles:\", round(kms_to_miles(distance), 2), \"miles\")\n",
    "print()\n",
    "\n",
    "#Q6) Calculate the average speed in miles per minute?\n",
    "kms_to_miles = distance/1.61\n",
    "avgspeed_miles = kms_to_miles/time\n",
    "print(\"Average Speed in miles/min:\", round(avgspeed_miles, 2), \"miles/min\")"
   ]
  },
  {
   "cell_type": "code",
   "execution_count": null,
   "metadata": {},
   "outputs": [],
   "source": []
  }
 ],
 "metadata": {
  "kernelspec": {
   "display_name": "Python 3",
   "language": "python",
   "name": "python3"
  },
  "language_info": {
   "codemirror_mode": {
    "name": "ipython",
    "version": 3
   },
   "file_extension": ".py",
   "mimetype": "text/x-python",
   "name": "python",
   "nbconvert_exporter": "python",
   "pygments_lexer": "ipython3",
   "version": "3.7.6"
  }
 },
 "nbformat": 4,
 "nbformat_minor": 4
}
