{
 "cells": [
  {
   "cell_type": "code",
   "execution_count": 9,
   "metadata": {},
   "outputs": [
    {
     "name": "stdout",
     "output_type": "stream",
     "text": [
      "Enter the cost of the item purchased: 14.56\n",
      "Enter the amount paid for the item: 20\n",
      "Amount of Change:  5.44\n",
      "Dollars: $ 5\n",
      "Quarters: 1\n",
      "Dimes: 1\n",
      "Nickels: 1\n",
      "Pennies: 4\n"
     ]
    }
   ],
   "source": [
    "def calculateChange(purchase, amountPaid):\n",
    "    change = amountPaid - purchase\n",
    "    ct = change*100+0.01\n",
    "    dl = int(ct /100)\n",
    "    ct = ct %100\n",
    "    qt = int(ct/25)\n",
    "    ct = ct %25\n",
    "    dm = int(ct/10)\n",
    "    ct = ct %10\n",
    "    nk = int(ct/5)\n",
    "    ct = ct %5\n",
    "    pn = int(ct)\n",
    "\n",
    "    return change, dl, qt, dm, nk, pn\n",
    "\n",
    "purchase = float(input(\"Enter the cost of the item purchased: \"))\n",
    "amountPaid = float(input(\"Enter the amount paid for the item: \"))\n",
    " \n",
    "change, dl, qt, dm, nk, pn = calculateChange(purchase, amountPaid)\n",
    "\n",
    "print(\"Amount of Change: \", round(change, 2))\n",
    "print(\"Dollars: $\", dl)\n",
    "print(\"Quarters:\", qt)\n",
    "print(\"Dimes:\", dm)\n",
    "print (\"Nickels:\", nk)\n",
    "print (\"Pennies:\", pn)"
   ]
  },
  {
   "cell_type": "code",
   "execution_count": null,
   "metadata": {},
   "outputs": [],
   "source": []
  }
 ],
 "metadata": {
  "kernelspec": {
   "display_name": "Python 3",
   "language": "python",
   "name": "python3"
  },
  "language_info": {
   "codemirror_mode": {
    "name": "ipython",
    "version": 3
   },
   "file_extension": ".py",
   "mimetype": "text/x-python",
   "name": "python",
   "nbconvert_exporter": "python",
   "pygments_lexer": "ipython3",
   "version": "3.7.6"
  }
 },
 "nbformat": 4,
 "nbformat_minor": 4
}
