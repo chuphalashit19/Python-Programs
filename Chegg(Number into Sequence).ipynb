{
 "cells": [
  {
   "cell_type": "code",
   "execution_count": 1,
   "metadata": {},
   "outputs": [
    {
     "name": "stdout",
     "output_type": "stream",
     "text": [
      "1\n",
      "\n",
      "49999999936\n",
      "6\n",
      "2 2 2 2 2 1562499998 \n",
      "\n"
     ]
    }
   ],
   "source": [
    "t = int(input())\n",
    "print()\n",
    "for i in range(t):\n",
    "    n = int(input())\n",
    "    if n == 1:\n",
    "        pass\n",
    "    if n in range(2,4):\n",
    "        l = []\n",
    "        l.append(n)\n",
    "        print(len(l))\n",
    "        print(n)\n",
    "        print()\n",
    "    elif n%2 != 0:\n",
    "        l = []\n",
    "        l.append(n)\n",
    "        print(len(l))\n",
    "        print(n)\n",
    "        print()\n",
    "    else:\n",
    "        l = []\n",
    "        while(n != 0):\n",
    "            if n%2 == 0:\n",
    "                n = n // 2\n",
    "                d = n / 2\n",
    "                l.append(2)\n",
    "                if d % 2 != 0:\n",
    "                    l.append(n)\n",
    "                    n = 0\n",
    "        print(len(l))\n",
    "        for i in l:\n",
    "            print(i, end = \" \")\n",
    "        print(\"\\n\")"
   ]
  },
  {
   "cell_type": "code",
   "execution_count": null,
   "metadata": {},
   "outputs": [],
   "source": [
    "4\n",
    "2\n",
    "2\n",
    "1\n",
    "2 360\n",
    "3\n",
    "2 2 90 49999999937\n",
    "49999999937\n",
    "1\n",
    "49999999937 4998207083\n",
    "4998207083\n",
    "1\n",
    "4998207083 "
   ]
  }
 ],
 "metadata": {
  "kernelspec": {
   "display_name": "Python 3",
   "language": "python",
   "name": "python3"
  },
  "language_info": {
   "codemirror_mode": {
    "name": "ipython",
    "version": 3
   },
   "file_extension": ".py",
   "mimetype": "text/x-python",
   "name": "python",
   "nbconvert_exporter": "python",
   "pygments_lexer": "ipython3",
   "version": "3.7.6"
  }
 },
 "nbformat": 4,
 "nbformat_minor": 4
}
