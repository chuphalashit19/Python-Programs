{
 "cells": [
  {
   "cell_type": "code",
   "execution_count": 7,
   "metadata": {},
   "outputs": [
    {
     "data": {
      "text/plain": [
       "[[4, 0, 6], [2]]"
      ]
     },
     "execution_count": 7,
     "metadata": {},
     "output_type": "execute_result"
    }
   ],
   "source": [
    "from typing import List\n",
    "\n",
    "def only_evens(lst: List[List[int]]) -> List[List[int]]:\n",
    "    \n",
    "    even_lists = []\n",
    "    \n",
    "    for sublist in lst:\n",
    "        count = 0\n",
    "        for i in sublist:\n",
    "            if i%2 == 0:\n",
    "                count += 1\n",
    "        if count == len(sublist):\n",
    "            even_lists.append(sublist)\n",
    "    \n",
    "    return even_lists\n",
    "\n",
    "only_evens([[1, 2, 4], [4, 0, 6], [22, 4, 3], [2]])"
   ]
  }
 ],
 "metadata": {
  "kernelspec": {
   "display_name": "Python 3",
   "language": "python",
   "name": "python3"
  },
  "language_info": {
   "codemirror_mode": {
    "name": "ipython",
    "version": 3
   },
   "file_extension": ".py",
   "mimetype": "text/x-python",
   "name": "python",
   "nbconvert_exporter": "python",
   "pygments_lexer": "ipython3",
   "version": "3.7.6"
  }
 },
 "nbformat": 4,
 "nbformat_minor": 4
}
