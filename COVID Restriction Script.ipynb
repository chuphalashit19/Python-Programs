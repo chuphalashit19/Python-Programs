{
 "cells": [
  {
   "cell_type": "code",
   "execution_count": 8,
   "metadata": {},
   "outputs": [
    {
     "name": "stdout",
     "output_type": "stream",
     "text": [
      "Are you a doctor? (yes/no)\n",
      "no\n",
      "Is today weekend? (yes/no)\n",
      "no\n",
      "What time is it now ? (in 24-hours format)\n",
      "14\n",
      "How old are you?\n",
      "67\n",
      "Stay at home\n"
     ]
    }
   ],
   "source": [
    "print(\"Are you a doctor? (yes/no)\")\n",
    "choice = input()\n",
    "\n",
    "if choice == \"yes\":\n",
    "    print(\"Free to go out\")\n",
    "\n",
    "elif choice  == \"no\":\n",
    "    print(\"Is today weekend? (yes/no)\")\n",
    "    choice1 = input()\n",
    "    if choice1 == \"yes\":\n",
    "        print(\"Stay at home\")\n",
    "    else:\n",
    "        print(\"What time is it now ? (in 24-hours format)\")\n",
    "        Time = int(input())\n",
    "        if 5 < Time < 21:\n",
    "            print(\"How old are you?\")\n",
    "            Age = int(input())\n",
    "            if Age > 65:\n",
    "                if 10 < Time < 13:\n",
    "                    print(\"Free to go out\")\n",
    "                else:\n",
    "                    print(\"Stay at home\")\n",
    "            else:\n",
    "                if Age < 20:\n",
    "                    if 13 < Time < 16:\n",
    "                        print(\"Free to go out\")\n",
    "                    else:\n",
    "                        print(\"Stay at home\")\n",
    "                else:\n",
    "                    print(\"Free to go out\")\n",
    "    \n",
    "else:\n",
    "    print(\"Invalid input!!\")"
   ]
  }
 ],
 "metadata": {
  "kernelspec": {
   "display_name": "Python 3",
   "language": "python",
   "name": "python3"
  },
  "language_info": {
   "codemirror_mode": {
    "name": "ipython",
    "version": 3
   },
   "file_extension": ".py",
   "mimetype": "text/x-python",
   "name": "python",
   "nbconvert_exporter": "python",
   "pygments_lexer": "ipython3",
   "version": "3.7.6"
  }
 },
 "nbformat": 4,
 "nbformat_minor": 4
}
