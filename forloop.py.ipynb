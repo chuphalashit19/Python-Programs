{
 "cells": [
  {
   "cell_type": "code",
   "execution_count": 6,
   "metadata": {},
   "outputs": [
    {
     "name": "stdout",
     "output_type": "stream",
     "text": [
      "Enter the start: 20\n",
      "Enter the end: 45\n",
      "Prime Number: 23\n",
      "Prime Number: 29\n",
      "Prime Number: 31\n",
      "Prime Number: 37\n",
      "Prime Number: 41\n",
      "Prime Number: 43\n"
     ]
    }
   ],
   "source": [
    "# forloop.py\n",
    "\n",
    "start = int(input(\"Enter the start: \"))\n",
    "end = int(input(\"Enter the end: \"))\n",
    "\n",
    "for n in range(start, end + 1):\n",
    "    if n > 1:\n",
    "        for i in range(2, n):\n",
    "            if (n % i) == 0:\n",
    "                break\n",
    "        else:\n",
    "            print(\"Prime Number:\", n)"
   ]
  }
 ],
 "metadata": {
  "kernelspec": {
   "display_name": "Python 3",
   "language": "python",
   "name": "python3"
  },
  "language_info": {
   "codemirror_mode": {
    "name": "ipython",
    "version": 3
   },
   "file_extension": ".py",
   "mimetype": "text/x-python",
   "name": "python",
   "nbconvert_exporter": "python",
   "pygments_lexer": "ipython3",
   "version": "3.7.6"
  }
 },
 "nbformat": 4,
 "nbformat_minor": 4
}
