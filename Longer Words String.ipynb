{
 "cells": [
  {
   "cell_type": "code",
   "execution_count": 3,
   "metadata": {},
   "outputs": [
    {
     "name": "stdout",
     "output_type": "stream",
     "text": [
      "quick brown jumps over lazy\n"
     ]
    }
   ],
   "source": [
    "def longerwords_str(string, length):\n",
    "    lis = list(string.split(\" \"))\n",
    "    string1 = \"\"\n",
    "    for i in lis:\n",
    "        l = len(i)\n",
    "        if l > length:\n",
    "            string1 += i + \" \"\n",
    "            \n",
    "    return string1.strip()\n",
    "\n",
    "print(longerwords_str(\"The quick brown fox jumps over the lazy dog\", 3))"
   ]
  }
 ],
 "metadata": {
  "kernelspec": {
   "display_name": "Python 3",
   "language": "python",
   "name": "python3"
  },
  "language_info": {
   "codemirror_mode": {
    "name": "ipython",
    "version": 3
   },
   "file_extension": ".py",
   "mimetype": "text/x-python",
   "name": "python",
   "nbconvert_exporter": "python",
   "pygments_lexer": "ipython3",
   "version": "3.7.6"
  }
 },
 "nbformat": 4,
 "nbformat_minor": 4
}
