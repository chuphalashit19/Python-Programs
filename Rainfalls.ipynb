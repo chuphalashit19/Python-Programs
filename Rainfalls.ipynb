{
 "cells": [
  {
   "cell_type": "code",
   "execution_count": 30,
   "metadata": {},
   "outputs": [
    {
     "name": "stdout",
     "output_type": "stream",
     "text": [
      "Day  Readings Total  Average\n",
      "0     4       19      4.75\n",
      "1     4       20      5.00\n",
      "2     3       42      14.00\n",
      "3     3       0      0.00\n",
      "4     3       8      2.67\n",
      "5     4       200      50.00\n",
      "6     0       0         *\n"
     ]
    }
   ],
   "source": [
    "day = 0\n",
    "\n",
    "def print_daily_totals(rainfalls):\n",
    "    global day\n",
    "    readings = 0\n",
    "    total = 0\n",
    "    avg = 0\n",
    "    for j in rainfalls:\n",
    "        if j >= 0:\n",
    "            readings += 1\n",
    "            total += j\n",
    "    if readings == 0:\n",
    "        print(day, \"   \", readings,  \"     \", total, \"    \", \"   *\")\n",
    "        day += 1\n",
    "        return\n",
    "    avg = float(total/readings)\n",
    "    print(day, \"   \", readings,  \"     \", total, \"    \", f'{avg:.2f}')\n",
    "    day += 1\n",
    "\n",
    "def print_rainfalls(rainfalls):\n",
    "    print(\"Day  Readings Total  Average\")\n",
    "    for i in rainfalls:\n",
    "        print_daily_totals(i)\n",
    "    \n",
    "rainfalls = [[0, 9, 3, 7], [11, 9, 0, 0], [-1, 10, 12, 20], [0, -1, 0, 0], [-1, 3, 4, 1], [52, 58, 90, 0], [-1, -1, -1, -1]]\n",
    "print_rainfalls(rainfalls)"
   ]
  },
  {
   "cell_type": "code",
   "execution_count": null,
   "metadata": {},
   "outputs": [],
   "source": []
  }
 ],
 "metadata": {
  "kernelspec": {
   "display_name": "Python 3",
   "language": "python",
   "name": "python3"
  },
  "language_info": {
   "codemirror_mode": {
    "name": "ipython",
    "version": 3
   },
   "file_extension": ".py",
   "mimetype": "text/x-python",
   "name": "python",
   "nbconvert_exporter": "python",
   "pygments_lexer": "ipython3",
   "version": "3.7.6"
  }
 },
 "nbformat": 4,
 "nbformat_minor": 4
}
