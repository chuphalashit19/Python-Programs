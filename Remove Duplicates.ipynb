{
 "cells": [
  {
   "cell_type": "code",
   "execution_count": 2,
   "metadata": {},
   "outputs": [
    {
     "name": "stdout",
     "output_type": "stream",
     "text": [
      "[1, 2, 3, 4, 6, 9]\n",
      "['a', 'b', 'c', 'g', 'k', 'l']\n"
     ]
    }
   ],
   "source": [
    "def remove_duplication(lis):\n",
    "    lis = sorted(lis)\n",
    "    res = []\n",
    "    \n",
    "    for i in lis:\n",
    "        if i not in res:\n",
    "            res.append(i)\n",
    "    return res\n",
    "\n",
    "lis1 = [1,2,1,4,3,2,9,6]\n",
    "lis2  = ['a', 'c', 'l', 'a', 'c', 'g', 'k', 'g', 'b', 'l']\n",
    "\n",
    "print(remove_duplication(lis1))\n",
    "print(remove_duplication(lis2))"
   ]
  }
 ],
 "metadata": {
  "kernelspec": {
   "display_name": "Python 3",
   "language": "python",
   "name": "python3"
  },
  "language_info": {
   "codemirror_mode": {
    "name": "ipython",
    "version": 3
   },
   "file_extension": ".py",
   "mimetype": "text/x-python",
   "name": "python",
   "nbconvert_exporter": "python",
   "pygments_lexer": "ipython3",
   "version": "3.7.6"
  }
 },
 "nbformat": 4,
 "nbformat_minor": 4
}
