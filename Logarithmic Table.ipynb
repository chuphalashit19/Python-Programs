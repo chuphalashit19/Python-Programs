{
 "cells": [
  {
   "cell_type": "code",
   "execution_count": 13,
   "metadata": {},
   "outputs": [
    {
     "name": "stdout",
     "output_type": "stream",
     "text": [
      "Accumulation sum of logarithm between 2 and 3:  4.28\n",
      "Number required to compute this accumulation:  2\n"
     ]
    }
   ],
   "source": [
    "# import logarithm module\n",
    "from numpy import log\n",
    "\n",
    "n = 1\n",
    "sum = 0\n",
    "count = 0\n",
    "\n",
    "while(n<10):\n",
    "\n",
    "    if(log(n) >=2 and log(n)<=3):\n",
    "        \n",
    "        sum += round(log(n),2)\n",
    "    \n",
    "        count += 1\n",
    "    \n",
    "    n += 1\n",
    "\n",
    "print(\"Accumulation sum of logarithm between 2 and 3: \", sum)\n",
    "print(\"Number required to compute this accumulation: \", count)"
   ]
  },
  {
   "cell_type": "code",
   "execution_count": null,
   "metadata": {},
   "outputs": [],
   "source": []
  }
 ],
 "metadata": {
  "kernelspec": {
   "display_name": "Python 3",
   "language": "python",
   "name": "python3"
  },
  "language_info": {
   "codemirror_mode": {
    "name": "ipython",
    "version": 3
   },
   "file_extension": ".py",
   "mimetype": "text/x-python",
   "name": "python",
   "nbconvert_exporter": "python",
   "pygments_lexer": "ipython3",
   "version": "3.7.6"
  }
 },
 "nbformat": 4,
 "nbformat_minor": 4
}
