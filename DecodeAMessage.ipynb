{
 "cells": [
  {
   "cell_type": "code",
   "execution_count": 5,
   "metadata": {},
   "outputs": [
    {
     "name": "stdout",
     "output_type": "stream",
     "text": [
      "Encoded value: 3xjiH2aba0p0p1ey0 1eF0e393ib2yu 022y150'2ttt3r6yh0 0!12!\n",
      "Decoded value: Happy Feb 25'th !!\n",
      "Decoded value is correct!!!\n"
     ]
    }
   ],
   "source": [
    "def decode(encoded):\n",
    "    list_of_chars = []\n",
    "    i = 0\n",
    "    while(i != len(encoded)):\n",
    "        if encoded[i].isnumeric():\n",
    "            if encoded[i] == \"0\":\n",
    "                list_of_chars.append(encoded[i+1])\n",
    "                i += 2\n",
    "            else:\n",
    "                pos = int(encoded[i]) + 1\n",
    "                list_of_chars.append(encoded[i + pos])\n",
    "                i += pos+1\n",
    "\n",
    "    msg = \"\".join(list_of_chars)\n",
    "    return msg\n",
    "\n",
    "encoded = \"3xjiH2aba0p0p1ey0 1eF0e393ib2yu 022y150'2ttt3r6yh0 0!12!\"\n",
    "assert \"Happy Feb 25'th !!\" == decode(encoded)\n",
    "print(\"Encoded value:\", encoded)\n",
    "print(\"Decoded value:\", decode(encoded))\n",
    "print(\"Decoded value is correct!!!\")"
   ]
  },
  {
   "cell_type": "code",
   "execution_count": 6,
   "metadata": {},
   "outputs": [
    {
     "name": "stdout",
     "output_type": "stream",
     "text": [
      "Encoded value: 0h2abe1zy\n",
      "Decoded value: hey\n",
      "Decoded value is correct!!!\n"
     ]
    }
   ],
   "source": [
    "def decode(encoded):\n",
    "    list_of_chars = []\n",
    "    i = 0\n",
    "    while(i != len(encoded)):\n",
    "        if encoded[i].isnumeric():\n",
    "            if encoded[i] == \"0\":\n",
    "                list_of_chars.append(encoded[i+1])\n",
    "                i += 2\n",
    "            else:\n",
    "                pos = int(encoded[i]) + 1\n",
    "                list_of_chars.append(encoded[i + pos])\n",
    "                i += pos+1\n",
    "\n",
    "    msg = \"\".join(list_of_chars)\n",
    "    return msg\n",
    "\n",
    "encoded = \"0h2abe1zy\"\n",
    "assert \"hey\" == decode(encoded)\n",
    "print(\"Encoded value:\", encoded)\n",
    "print(\"Decoded value:\", decode(encoded))\n",
    "print(\"Decoded value is correct!!!\")"
   ]
  }
 ],
 "metadata": {
  "kernelspec": {
   "display_name": "Python 3",
   "language": "python",
   "name": "python3"
  },
  "language_info": {
   "codemirror_mode": {
    "name": "ipython",
    "version": 3
   },
   "file_extension": ".py",
   "mimetype": "text/x-python",
   "name": "python",
   "nbconvert_exporter": "python",
   "pygments_lexer": "ipython3",
   "version": "3.7.6"
  }
 },
 "nbformat": 4,
 "nbformat_minor": 4
}
