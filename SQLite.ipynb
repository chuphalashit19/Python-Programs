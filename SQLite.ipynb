{
 "cells": [
  {
   "cell_type": "code",
   "execution_count": 4,
   "metadata": {},
   "outputs": [
    {
     "name": "stdout",
     "output_type": "stream",
     "text": [
      "Opened database successfully\n",
      "\n",
      "Employee Table Details:- \n",
      "\n",
      "(12345, 'Ali', 'Akbas', 5000, 3)\n",
      "(45123, 'Ahmet', 'Merinos', 3000, 4)\n",
      "(22223, 'Haydar', 'Sen', 2600, 2)\n",
      "(11122, 'Ayse', 'Mordogan', 3200, 3)\n",
      "(22322, 'Lale', 'Koruk', 4000, 3)\n",
      "(22223, 'Binnaz', 'Ellibes', 3300, 2)\n",
      "(44231, 'Aydin', 'Ayaydin', 4400, 2)\n",
      "(56342, 'Rana', 'Gundogan', 5300, 1)\n",
      "\n",
      "After executing the select statement:-\n",
      "\n",
      "('Operations', 'Ali', 'Akbas', 5000)\n",
      "('Operations', 'Ayse', 'Mordogan', 3200)\n",
      "('Operations', 'Lale', 'Koruk', 4000)\n",
      "\n",
      "Employee table after updating:-\n",
      "\n",
      "(12345, 'Ali', 'Akbas', 5000, 3)\n",
      "(45123, 'Ahmet', 'Merinos', 3300, 4)\n",
      "(22223, 'Haydar', 'Sen', 2860, 2)\n",
      "(11122, 'Ayse', 'Mordogan', 3520, 3)\n",
      "(22322, 'Lale', 'Koruk', 4000, 3)\n",
      "(22223, 'Binnaz', 'Ellibes', 3630, 2)\n",
      "(44231, 'Aydin', 'Ayaydin', 4400, 2)\n",
      "(56342, 'Rana', 'Gundogan', 5300, 1)\n"
     ]
    }
   ],
   "source": [
    "import sqlite3\n",
    "\n",
    "conn = sqlite3.connect('company.db')\n",
    "\n",
    "print(\"Opened database successfully\")\n",
    "\n",
    "con = sqlite3.connect('company.db')\n",
    "\n",
    "cur = conn.cursor()\n",
    "\n",
    "cur.execute(\"CREATE TABLE IF NOT EXISTS department(deptNo integer PRIMARY KEY, deptName text)\")\n",
    "con.commit()\n",
    "\n",
    "cur.execute(\"INSERT INTO department VALUES(1, 'Administration')\")\n",
    "cur.execute(\"INSERT INTO department VALUES(2, 'Marketing')\")\n",
    "cur.execute(\"INSERT INTO department VALUES(3, 'Operations')\")\n",
    "cur.execute(\"INSERT INTO department VALUES(4, 'Accounting')\")\n",
    "con.commit()\n",
    "\n",
    "cur.execute(\"CREATE TABLE IF NOT EXISTS employee(SSN integer, Name text, \\\n",
    "            LastName text, Salary integer, deptNo, FOREIGN KEY(deptNo) REFERENCES department(deptNo))\")\n",
    "con.commit()\n",
    "\n",
    "emp = [(12345, \"Ali\", \"Akbas\", 5000, 3), (45123, \"Ahmet\", \"Merinos\", 3000, 4), (22223, \"Haydar\", \"Sen\", 2600, 2), \\\n",
    "       (11122, \"Ayse\", \"Mordogan\", 3200, 3), (22322, \"Lale\", \"Koruk\", 4000, 3), (22223, \"Binnaz\", \"Ellibes\", 3300, 2), \\\n",
    "       (44231, \"Aydin\", \"Ayaydin\", 4400, 2), (56342, \"Rana\", \"Gundogan\", 5300, 1)]\n",
    "\n",
    "cur.executemany(\"INSERT INTO employee VALUES (?, ?, ?, ?, ?)\", emp)\n",
    "con.commit()\n",
    "\n",
    "print(\"\\nEmployee Table Details:- \\n\")\n",
    "\n",
    "for row in cur.execute(\"SELECT * FROM employee\"):\n",
    "    print(row)\n",
    "\n",
    "print(\"\\nAfter executing the select statement:-\\n\")\n",
    "    \n",
    "for row in cur.execute(\"SELECT D.deptName, E.Name, E.LastName, E.salary from department D JOIN \\\n",
    "                                    employee E ON (D.deptNo = E.DeptNo) and deptName = 'Operations' \"):\n",
    "    print(row)\n",
    "\n",
    "con.commit()\n",
    "\n",
    "cur.execute(\"UPDATE Employee set salary = (salary + salary*0.10) where salary < 3500\")\n",
    "\n",
    "print(\"\\nEmployee table after updating:-\\n\")\n",
    "\n",
    "for row in cur.execute(\"SELECT * FROM employee\"):\n",
    "    print(row)\n",
    "\n",
    "con.commit()"
   ]
  },
  {
   "cell_type": "code",
   "execution_count": null,
   "metadata": {},
   "outputs": [],
   "source": []
  }
 ],
 "metadata": {
  "kernelspec": {
   "display_name": "Python 3",
   "language": "python",
   "name": "python3"
  },
  "language_info": {
   "codemirror_mode": {
    "name": "ipython",
    "version": 3
   },
   "file_extension": ".py",
   "mimetype": "text/x-python",
   "name": "python",
   "nbconvert_exporter": "python",
   "pygments_lexer": "ipython3",
   "version": "3.7.6"
  }
 },
 "nbformat": 4,
 "nbformat_minor": 4
}
