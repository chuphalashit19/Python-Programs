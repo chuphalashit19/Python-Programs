{
 "cells": [
  {
   "cell_type": "code",
   "execution_count": 3,
   "metadata": {},
   "outputs": [
    {
     "name": "stdout",
     "output_type": "stream",
     "text": [
      "\n",
      "Please enter a character or 0 to stop the program : z\n",
      "\n",
      "Please enter a character or 0 to stop the program : x\n",
      "\n",
      "Please enter a character or 0 to stop the program : 0\n",
      "\n",
      "You entered : zx\n"
     ]
    }
   ],
   "source": [
    "# contloop.py\n",
    "\n",
    "string = \"\"         # initialising an empty string\n",
    "ch = \"\"\n",
    "\n",
    "while(ch != '0'):        # the while loop will run until the character enter by user is 0\n",
    "    \n",
    "    ch = input(\"\\nPlease enter a character or 0 to stop the program : \")        # taking input from user\n",
    "    \n",
    "    if ch != '0':\n",
    "        string += ch        # adding or concatenating each character to string\n",
    "    \n",
    "print(\"\\nYou entered :\", string)        # printing the final string"
   ]
  }
 ],
 "metadata": {
  "kernelspec": {
   "display_name": "Python 3",
   "language": "python",
   "name": "python3"
  },
  "language_info": {
   "codemirror_mode": {
    "name": "ipython",
    "version": 3
   },
   "file_extension": ".py",
   "mimetype": "text/x-python",
   "name": "python",
   "nbconvert_exporter": "python",
   "pygments_lexer": "ipython3",
   "version": "3.7.6"
  }
 },
 "nbformat": 4,
 "nbformat_minor": 4
}
