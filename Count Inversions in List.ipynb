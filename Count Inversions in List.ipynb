{
 "cells": [
  {
   "cell_type": "code",
   "execution_count": 4,
   "metadata": {},
   "outputs": [
    {
     "name": "stdout",
     "output_type": "stream",
     "text": [
      "1 20 6 4 5 12 2\n",
      "Count of inversions in list are:  11\n"
     ]
    }
   ],
   "source": [
    "def CountInversions(lst):      #function prototype\n",
    "    \n",
    "    count_inversions = 0        #initiliazing the count of inversions to 0\n",
    "    \n",
    "    for i in range(len(lst)):        #for loop to iterate through the list\n",
    "        for j in range(i+1, len(lst)):      #another for loop to iterate the list after the ith position\n",
    "            if (lst[i] > lst[j]):                #we will check if the ith position value in list is greater than \n",
    "                count_inversions += 1                  # jth position in the same list, if true we increment count\n",
    " \n",
    "    return count_inversions                   #returning the count of inversions\n",
    "\n",
    "lst = list(map(int, input().split()))          #taking input from the user as list with values seperated by space\n",
    "\n",
    "print(\"Count of inversions in list are: \", CountInversions(lst))     #printing the count of inversions"
   ]
  }
 ],
 "metadata": {
  "kernelspec": {
   "display_name": "Python 3",
   "language": "python",
   "name": "python3"
  },
  "language_info": {
   "codemirror_mode": {
    "name": "ipython",
    "version": 3
   },
   "file_extension": ".py",
   "mimetype": "text/x-python",
   "name": "python",
   "nbconvert_exporter": "python",
   "pygments_lexer": "ipython3",
   "version": "3.7.6"
  }
 },
 "nbformat": 4,
 "nbformat_minor": 4
}
