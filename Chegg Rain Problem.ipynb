{
 "cells": [
  {
   "cell_type": "code",
   "execution_count": 3,
   "metadata": {},
   "outputs": [
    {
     "name": "stdout",
     "output_type": "stream",
     "text": [
      "1.22\n",
      "6 2020-11-07\n"
     ]
    }
   ],
   "source": [
    "def average_rain(file):\n",
    "    count = tot = 0\n",
    "    for line in file: \n",
    "        date, rf = line.split()\n",
    "        tot += int(rf)\n",
    "        count += 1\n",
    "    avg = round((tot/count),2)\n",
    "    return avg\n",
    "\n",
    "def max_rain_date(file):\n",
    "    max_rain = 0\n",
    "    for line in file:\n",
    "        date, rf = line.split()\n",
    "        rf = int(rf)\n",
    "        max_rain = max(max_rain, rf)\n",
    "        if max_rain == rf:\n",
    "            rain_date = date\n",
    "    return(max_rain, rain_date)\n",
    "    \n",
    "# Opening file\n",
    "FILENAME = \"rainfall.txt\"\n",
    "\n",
    "#finding average of rainfalls\n",
    "file = open(FILENAME, \"r\")\n",
    "average = average_rain(file)\n",
    "print(average)\n",
    "file.close()\n",
    "\n",
    "# finding maximum rainfall and the date it occured\n",
    "file = open(FILENAME, \"r\")\n",
    "max_rain, max_date = max_rain_date(file)\n",
    "print(max_rain, max_date)\n",
    "\n",
    "# Closing files \n",
    "file.close()"
   ]
  },
  {
   "cell_type": "code",
   "execution_count": 33,
   "metadata": {},
   "outputs": [
    {
     "name": "stdout",
     "output_type": "stream",
     "text": [
      "2020-11-01      0\n",
      "\n",
      "2020-11-02      1\n",
      "\n",
      "2020-11-03      0\n",
      "\n",
      "2020-11-04      1\n",
      "\n",
      "2020-11-05      0\n",
      "\n",
      "2020-11-06      0\n",
      "\n",
      "2020-11-07      6\n",
      "\n",
      "2020-11-08      2\n",
      "\n",
      "2020-11-09      1\n",
      "\n"
     ]
    }
   ],
   "source": [
    "FILENAME = \"rainfall.txt\"\n",
    "file = open(FILENAME, \"r\")\n",
    "for line in file:\n",
    "    print(line)\n",
    "file.close()"
   ]
  }
 ],
 "metadata": {
  "kernelspec": {
   "display_name": "Python 3",
   "language": "python",
   "name": "python3"
  },
  "language_info": {
   "codemirror_mode": {
    "name": "ipython",
    "version": 3
   },
   "file_extension": ".py",
   "mimetype": "text/x-python",
   "name": "python",
   "nbconvert_exporter": "python",
   "pygments_lexer": "ipython3",
   "version": "3.7.6"
  }
 },
 "nbformat": 4,
 "nbformat_minor": 4
}
