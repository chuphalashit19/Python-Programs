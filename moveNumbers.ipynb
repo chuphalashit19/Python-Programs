{
 "cells": [
  {
   "cell_type": "code",
   "execution_count": 4,
   "metadata": {},
   "outputs": [
    {
     "name": "stdout",
     "output_type": "stream",
     "text": [
      "[-1, -10, 0, 2, 4]\n"
     ]
    }
   ],
   "source": [
    "def move_numbers(lis):\n",
    "    \n",
    "    new_lis = []\n",
    "    for i in lis:\n",
    "        if i < 0:\n",
    "            new_lis.append(i)\n",
    "    for i in lis:\n",
    "        if i == 0:\n",
    "            new_lis.append(i)\n",
    "    for i in lis:\n",
    "        if i > 0:\n",
    "            new_lis.append(i)\n",
    "            \n",
    "    return new_lis\n",
    "\n",
    "lis = [-1, 2, 0, 4, -10]\n",
    "print(move_numbers(lis))"
   ]
  },
  {
   "cell_type": "code",
   "execution_count": null,
   "metadata": {},
   "outputs": [],
   "source": []
  }
 ],
 "metadata": {
  "kernelspec": {
   "display_name": "Python 3",
   "language": "python",
   "name": "python3"
  },
  "language_info": {
   "codemirror_mode": {
    "name": "ipython",
    "version": 3
   },
   "file_extension": ".py",
   "mimetype": "text/x-python",
   "name": "python",
   "nbconvert_exporter": "python",
   "pygments_lexer": "ipython3",
   "version": "3.7.6"
  }
 },
 "nbformat": 4,
 "nbformat_minor": 4
}
